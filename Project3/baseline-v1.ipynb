{
 "cells": [
  {
   "attachments": {},
   "cell_type": "markdown",
   "id": "658034cb",
   "metadata": {},
   "source": [
    "# PROJECT-3. EDA + Feature Engineering. Соревнование на Kaggle. EDA & ML\n",
    "\n",
    "## Описание кейса и постановка задачи\n",
    "\n",
    "Представьте, что вы работаете дата-сайентистом в компании Booking. Одна из проблем компании — это нечестные отели, которые накручивают себе рейтинг. Одним из способов обнаружения таких отелей является построение модели, которая предсказывает рейтинг отеля. Если предсказания модели сильно отличаются от фактического результата, то, возможно, отель ведёт себя нечестно, и его стоит проверить.\n",
    "\n",
    "Вы будете работать с датасетом, в котором содержатся сведения о 515 000 отзывов на отели Европы. Модель, которую вы будете обучать, должна предсказывать рейтинг отеля по данным сайта Booking на основе имеющихся в датасете данных. Изученные нами навыки разведывательного анализа помогут улучшить модель."
   ]
  },
  {
   "cell_type": "code",
   "execution_count": 1,
   "id": "f5413ce0",
   "metadata": {
    "_cell_guid": "b1076dfc-b9ad-4769-8c92-a6c4dae69d19",
    "_uuid": "8f2839f25d086af736a60e9eeb907d3b93b6e0e5",
    "execution": {
     "iopub.execute_input": "2023-08-10T10:23:48.082699Z",
     "iopub.status.busy": "2023-08-10T10:23:48.081875Z",
     "iopub.status.idle": "2023-08-10T10:23:50.776912Z",
     "shell.execute_reply": "2023-08-10T10:23:50.777934Z",
     "shell.execute_reply.started": "2023-08-10T10:20:12.205890Z"
    },
    "papermill": {
     "duration": 2.782111,
     "end_time": "2023-08-10T10:23:50.778380",
     "exception": false,
     "start_time": "2023-08-10T10:23:47.996269",
     "status": "completed"
    },
    "tags": []
   },
   "outputs": [
    {
     "name": "stdout",
     "output_type": "stream",
     "text": [
      "/kaggle/input/sf-booking/hotels_test.csv\n",
      "/kaggle/input/sf-booking/hotels_train.csv\n",
      "/kaggle/input/sf-booking/submission.csv\n"
     ]
    }
   ],
   "source": [
    "# This Python 3 environment comes with many helpful analytics libraries installed\n",
    "# It is defined by the kaggle/python Docker image: https://github.com/kaggle/docker-python\n",
    "# For example, here's several helpful packages to load\n",
    "\n",
    "import numpy as np # linear algebra\n",
    "import pandas as pd # data processing, CSV file I/O (e.g. pd.read_csv)\n",
    "\n",
    "# импортируем библиотеки для визуализации\n",
    "import matplotlib.pyplot as plt\n",
    "import seaborn as sns \n",
    "import plotly.express as px\n",
    "%matplotlib inline\n",
    "\n",
    "# Загружаем специальный удобный инструмент для разделения датасета:\n",
    "from sklearn.model_selection import train_test_split\n",
    "from sklearn import preprocessing\n",
    "\n",
    "# Input data files are available in the read-only \"../input/\" directory\n",
    "# For example, running this (by clicking run or pressing Shift+Enter) will list all files under the input directory\n",
    "\n",
    "import os\n",
    "for dirname, _, filenames in os.walk('/kaggle/input'):\n",
    "    for filename in filenames:\n",
    "        print(os.path.join(dirname, filename))\n",
    "\n",
    "# You can write up to 20GB to the current directory (/kaggle/working/) that gets preserved as output when you create a version using \"Save & Run All\" \n",
    "# You can also write temporary files to /kaggle/temp/, but they won't be saved outside of the current session"
   ]
  },
  {
   "cell_type": "code",
   "execution_count": 2,
   "id": "bc75cf8e",
   "metadata": {
    "execution": {
     "iopub.execute_input": "2023-08-10T10:23:50.924152Z",
     "iopub.status.busy": "2023-08-10T10:23:50.923306Z",
     "iopub.status.idle": "2023-08-10T10:23:50.927542Z",
     "shell.execute_reply": "2023-08-10T10:23:50.928089Z",
     "shell.execute_reply.started": "2023-08-10T10:20:12.230773Z"
    },
    "papermill": {
     "duration": 0.075289,
     "end_time": "2023-08-10T10:23:50.928326",
     "exception": false,
     "start_time": "2023-08-10T10:23:50.853037",
     "status": "completed"
    },
    "tags": []
   },
   "outputs": [],
   "source": [
    "# всегда фиксируйте RANDOM_SEED, чтобы ваши эксперименты были воспроизводимы!\n",
    "RANDOM_SEED = 42"
   ]
  },
  {
   "cell_type": "code",
   "execution_count": 3,
   "id": "4a542745",
   "metadata": {
    "execution": {
     "iopub.execute_input": "2023-08-10T10:23:51.069319Z",
     "iopub.status.busy": "2023-08-10T10:23:51.068402Z",
     "iopub.status.idle": "2023-08-10T10:23:56.521979Z",
     "shell.execute_reply": "2023-08-10T10:23:56.521320Z",
     "shell.execute_reply.started": "2023-08-10T10:20:12.244129Z"
    },
    "papermill": {
     "duration": 5.525057,
     "end_time": "2023-08-10T10:23:56.522174",
     "exception": false,
     "start_time": "2023-08-10T10:23:50.997117",
     "status": "completed"
    },
    "tags": []
   },
   "outputs": [],
   "source": [
    "# зафиксируем версию пакетов, чтобы эксперименты были воспроизводимы:\n",
    "!pip freeze > requirements.txt"
   ]
  },
  {
   "cell_type": "markdown",
   "id": "29de1bb3",
   "metadata": {
    "papermill": {
     "duration": 0.066134,
     "end_time": "2023-08-10T10:23:56.655597",
     "exception": false,
     "start_time": "2023-08-10T10:23:56.589463",
     "status": "completed"
    },
    "tags": []
   },
   "source": [
    "# Загрузка данных"
   ]
  },
  {
   "cell_type": "code",
   "execution_count": 4,
   "id": "a5ac2747",
   "metadata": {
    "execution": {
     "iopub.execute_input": "2023-08-10T10:23:56.798005Z",
     "iopub.status.busy": "2023-08-10T10:23:56.797140Z",
     "iopub.status.idle": "2023-08-10T10:24:03.228220Z",
     "shell.execute_reply": "2023-08-10T10:24:03.227166Z",
     "shell.execute_reply.started": "2023-08-10T10:20:14.424618Z"
    },
    "papermill": {
     "duration": 6.505779,
     "end_time": "2023-08-10T10:24:03.228389",
     "exception": false,
     "start_time": "2023-08-10T10:23:56.722610",
     "status": "completed"
    },
    "tags": []
   },
   "outputs": [],
   "source": [
    "# Подгрузим наши данные из соревнования\n",
    "\n",
    "DATA_DIR = '/kaggle/input/sf-booking/'\n",
    "df_train = pd.read_csv(DATA_DIR+'/hotels_train.csv') # датасет для обучения\n",
    "df_test = pd.read_csv(DATA_DIR+'hotels_test.csv') # датасет для предсказания\n",
    "sample_submission = pd.read_csv(DATA_DIR+'/submission.csv') # самбмишн"
   ]
  },
  {
   "cell_type": "markdown",
   "id": "8f81b091",
   "metadata": {
    "papermill": {
     "duration": 0.066628,
     "end_time": "2023-08-10T10:24:03.361640",
     "exception": false,
     "start_time": "2023-08-10T10:24:03.295012",
     "status": "completed"
    },
    "tags": []
   },
   "source": [
    "**Описание полей**\n",
    "\n",
    "* *hotel_address* — адрес отеля;\n",
    "* *review_date* — дата, когда рецензент разместил соответствующий отзыв;\n",
    "* *average_score* — средний балл отеля, рассчитанный на основе последнего комментария за последний год;\n",
    "* *hotel_name* — название отеля;\n",
    "* *reviewer_nationality* — страна рецензента;\n",
    "* *negative_review* — отрицательный отзыв, который рецензент дал отелю;\n",
    "* *review_total_negative_word_counts* — общее количество слов в отрицательном отзыв;\n",
    "* *positive_review* — положительный отзыв, который рецензент дал отелю;\n",
    "* *review_total_positive_word_counts* — общее количество слов в положительном отзыве;\n",
    "* ***reviewer_score*** — оценка, которую рецензент поставил отелю на основе своего опыта. Целевой признак, который нужно предсказать;\n",
    "* *total_number_of_reviews_reviewer_has_given* — количество отзывов, которые рецензенты дали в прошлом;\n",
    "* *total_number_of_reviews* — общее количество действительных отзывов об отеле;\n",
    "* *tags* — теги, которые рецензент дал отелю;\n",
    "* *days_since_review* — количество дней между датой проверки и датой очистки;\n",
    "* *additional_number_of_scoring* — есть также некоторые гости, которые просто поставили оценку сервису, но не оставили отзыв. Это число указывает, сколько там действительных оценок без проверки.\n",
    "* *lat* — географическая широта отеля;\n",
    "* *lng* — географическая долгота отеля."
   ]
  },
  {
   "cell_type": "code",
   "execution_count": 5,
   "id": "53622e75",
   "metadata": {
    "execution": {
     "iopub.execute_input": "2023-08-10T10:24:03.505440Z",
     "iopub.status.busy": "2023-08-10T10:24:03.504683Z",
     "iopub.status.idle": "2023-08-10T10:24:03.885370Z",
     "shell.execute_reply": "2023-08-10T10:24:03.886310Z",
     "shell.execute_reply.started": "2023-08-10T10:20:17.290298Z"
    },
    "papermill": {
     "duration": 0.457576,
     "end_time": "2023-08-10T10:24:03.886547",
     "exception": false,
     "start_time": "2023-08-10T10:24:03.428971",
     "status": "completed"
    },
    "tags": []
   },
   "outputs": [
    {
     "name": "stdout",
     "output_type": "stream",
     "text": [
      "<class 'pandas.core.frame.DataFrame'>\n",
      "RangeIndex: 386803 entries, 0 to 386802\n",
      "Data columns (total 17 columns):\n",
      " #   Column                                      Non-Null Count   Dtype  \n",
      "---  ------                                      --------------   -----  \n",
      " 0   hotel_address                               386803 non-null  object \n",
      " 1   additional_number_of_scoring                386803 non-null  int64  \n",
      " 2   review_date                                 386803 non-null  object \n",
      " 3   average_score                               386803 non-null  float64\n",
      " 4   hotel_name                                  386803 non-null  object \n",
      " 5   reviewer_nationality                        386803 non-null  object \n",
      " 6   negative_review                             386803 non-null  object \n",
      " 7   review_total_negative_word_counts           386803 non-null  int64  \n",
      " 8   total_number_of_reviews                     386803 non-null  int64  \n",
      " 9   positive_review                             386803 non-null  object \n",
      " 10  review_total_positive_word_counts           386803 non-null  int64  \n",
      " 11  total_number_of_reviews_reviewer_has_given  386803 non-null  int64  \n",
      " 12  reviewer_score                              386803 non-null  float64\n",
      " 13  tags                                        386803 non-null  object \n",
      " 14  days_since_review                           386803 non-null  object \n",
      " 15  lat                                         384355 non-null  float64\n",
      " 16  lng                                         384355 non-null  float64\n",
      "dtypes: float64(4), int64(5), object(8)\n",
      "memory usage: 50.2+ MB\n"
     ]
    }
   ],
   "source": [
    "df_train.info()"
   ]
  },
  {
   "cell_type": "code",
   "execution_count": 6,
   "id": "8ac238a8",
   "metadata": {
    "execution": {
     "iopub.execute_input": "2023-08-10T10:24:04.051150Z",
     "iopub.status.busy": "2023-08-10T10:24:04.046221Z",
     "iopub.status.idle": "2023-08-10T10:24:04.075429Z",
     "shell.execute_reply": "2023-08-10T10:24:04.076065Z",
     "shell.execute_reply.started": "2023-08-10T10:20:17.474431Z"
    },
    "papermill": {
     "duration": 0.121955,
     "end_time": "2023-08-10T10:24:04.076274",
     "exception": false,
     "start_time": "2023-08-10T10:24:03.954319",
     "status": "completed"
    },
    "tags": []
   },
   "outputs": [
    {
     "data": {
      "text/html": [
       "<div>\n",
       "<style scoped>\n",
       "    .dataframe tbody tr th:only-of-type {\n",
       "        vertical-align: middle;\n",
       "    }\n",
       "\n",
       "    .dataframe tbody tr th {\n",
       "        vertical-align: top;\n",
       "    }\n",
       "\n",
       "    .dataframe thead th {\n",
       "        text-align: right;\n",
       "    }\n",
       "</style>\n",
       "<table border=\"1\" class=\"dataframe\">\n",
       "  <thead>\n",
       "    <tr style=\"text-align: right;\">\n",
       "      <th></th>\n",
       "      <th>hotel_address</th>\n",
       "      <th>additional_number_of_scoring</th>\n",
       "      <th>review_date</th>\n",
       "      <th>average_score</th>\n",
       "      <th>hotel_name</th>\n",
       "      <th>reviewer_nationality</th>\n",
       "      <th>negative_review</th>\n",
       "      <th>review_total_negative_word_counts</th>\n",
       "      <th>total_number_of_reviews</th>\n",
       "      <th>positive_review</th>\n",
       "      <th>review_total_positive_word_counts</th>\n",
       "      <th>total_number_of_reviews_reviewer_has_given</th>\n",
       "      <th>reviewer_score</th>\n",
       "      <th>tags</th>\n",
       "      <th>days_since_review</th>\n",
       "      <th>lat</th>\n",
       "      <th>lng</th>\n",
       "    </tr>\n",
       "  </thead>\n",
       "  <tbody>\n",
       "    <tr>\n",
       "      <th>0</th>\n",
       "      <td>Stratton Street Mayfair Westminster Borough Lo...</td>\n",
       "      <td>581</td>\n",
       "      <td>2/19/2016</td>\n",
       "      <td>8.4</td>\n",
       "      <td>The May Fair Hotel</td>\n",
       "      <td>United Kingdom</td>\n",
       "      <td>Leaving</td>\n",
       "      <td>3</td>\n",
       "      <td>1994</td>\n",
       "      <td>Staff were amazing</td>\n",
       "      <td>4</td>\n",
       "      <td>7</td>\n",
       "      <td>10.0</td>\n",
       "      <td>[' Leisure trip ', ' Couple ', ' Studio Suite ...</td>\n",
       "      <td>531 day</td>\n",
       "      <td>51.507894</td>\n",
       "      <td>-0.143671</td>\n",
       "    </tr>\n",
       "    <tr>\n",
       "      <th>1</th>\n",
       "      <td>130 134 Southampton Row Camden London WC1B 5AF...</td>\n",
       "      <td>299</td>\n",
       "      <td>1/12/2017</td>\n",
       "      <td>8.3</td>\n",
       "      <td>Mercure London Bloomsbury Hotel</td>\n",
       "      <td>United Kingdom</td>\n",
       "      <td>poor breakfast</td>\n",
       "      <td>3</td>\n",
       "      <td>1361</td>\n",
       "      <td>location</td>\n",
       "      <td>2</td>\n",
       "      <td>14</td>\n",
       "      <td>6.3</td>\n",
       "      <td>[' Business trip ', ' Couple ', ' Standard Dou...</td>\n",
       "      <td>203 day</td>\n",
       "      <td>51.521009</td>\n",
       "      <td>-0.123097</td>\n",
       "    </tr>\n",
       "  </tbody>\n",
       "</table>\n",
       "</div>"
      ],
      "text/plain": [
       "                                       hotel_address  \\\n",
       "0  Stratton Street Mayfair Westminster Borough Lo...   \n",
       "1  130 134 Southampton Row Camden London WC1B 5AF...   \n",
       "\n",
       "   additional_number_of_scoring review_date  average_score  \\\n",
       "0                           581   2/19/2016            8.4   \n",
       "1                           299   1/12/2017            8.3   \n",
       "\n",
       "                        hotel_name reviewer_nationality  negative_review  \\\n",
       "0               The May Fair Hotel      United Kingdom          Leaving    \n",
       "1  Mercure London Bloomsbury Hotel      United Kingdom    poor breakfast   \n",
       "\n",
       "   review_total_negative_word_counts  total_number_of_reviews  \\\n",
       "0                                  3                     1994   \n",
       "1                                  3                     1361   \n",
       "\n",
       "       positive_review  review_total_positive_word_counts  \\\n",
       "0   Staff were amazing                                  4   \n",
       "1             location                                  2   \n",
       "\n",
       "   total_number_of_reviews_reviewer_has_given  reviewer_score  \\\n",
       "0                                           7            10.0   \n",
       "1                                          14             6.3   \n",
       "\n",
       "                                                tags days_since_review  \\\n",
       "0  [' Leisure trip ', ' Couple ', ' Studio Suite ...           531 day   \n",
       "1  [' Business trip ', ' Couple ', ' Standard Dou...           203 day   \n",
       "\n",
       "         lat       lng  \n",
       "0  51.507894 -0.143671  \n",
       "1  51.521009 -0.123097  "
      ]
     },
     "execution_count": 6,
     "metadata": {},
     "output_type": "execute_result"
    }
   ],
   "source": [
    "df_train.head(2)"
   ]
  },
  {
   "cell_type": "code",
   "execution_count": 7,
   "id": "2e65901a",
   "metadata": {
    "execution": {
     "iopub.execute_input": "2023-08-10T10:24:04.220267Z",
     "iopub.status.busy": "2023-08-10T10:24:04.219492Z",
     "iopub.status.idle": "2023-08-10T10:24:04.350936Z",
     "shell.execute_reply": "2023-08-10T10:24:04.351579Z",
     "shell.execute_reply.started": "2023-08-10T10:20:17.494997Z"
    },
    "papermill": {
     "duration": 0.205813,
     "end_time": "2023-08-10T10:24:04.351777",
     "exception": false,
     "start_time": "2023-08-10T10:24:04.145964",
     "status": "completed"
    },
    "tags": []
   },
   "outputs": [
    {
     "name": "stdout",
     "output_type": "stream",
     "text": [
      "<class 'pandas.core.frame.DataFrame'>\n",
      "RangeIndex: 128935 entries, 0 to 128934\n",
      "Data columns (total 16 columns):\n",
      " #   Column                                      Non-Null Count   Dtype  \n",
      "---  ------                                      --------------   -----  \n",
      " 0   hotel_address                               128935 non-null  object \n",
      " 1   additional_number_of_scoring                128935 non-null  int64  \n",
      " 2   review_date                                 128935 non-null  object \n",
      " 3   average_score                               128935 non-null  float64\n",
      " 4   hotel_name                                  128935 non-null  object \n",
      " 5   reviewer_nationality                        128935 non-null  object \n",
      " 6   negative_review                             128935 non-null  object \n",
      " 7   review_total_negative_word_counts           128935 non-null  int64  \n",
      " 8   total_number_of_reviews                     128935 non-null  int64  \n",
      " 9   positive_review                             128935 non-null  object \n",
      " 10  review_total_positive_word_counts           128935 non-null  int64  \n",
      " 11  total_number_of_reviews_reviewer_has_given  128935 non-null  int64  \n",
      " 12  tags                                        128935 non-null  object \n",
      " 13  days_since_review                           128935 non-null  object \n",
      " 14  lat                                         128115 non-null  float64\n",
      " 15  lng                                         128115 non-null  float64\n",
      "dtypes: float64(3), int64(5), object(8)\n",
      "memory usage: 15.7+ MB\n"
     ]
    }
   ],
   "source": [
    "df_test.info()"
   ]
  },
  {
   "cell_type": "code",
   "execution_count": 8,
   "id": "a5808226",
   "metadata": {
    "execution": {
     "iopub.execute_input": "2023-08-10T10:24:04.508808Z",
     "iopub.status.busy": "2023-08-10T10:24:04.508045Z",
     "iopub.status.idle": "2023-08-10T10:24:04.511401Z",
     "shell.execute_reply": "2023-08-10T10:24:04.511980Z",
     "shell.execute_reply.started": "2023-08-10T10:20:17.570113Z"
    },
    "papermill": {
     "duration": 0.09084,
     "end_time": "2023-08-10T10:24:04.512178",
     "exception": false,
     "start_time": "2023-08-10T10:24:04.421338",
     "status": "completed"
    },
    "tags": []
   },
   "outputs": [
    {
     "data": {
      "text/html": [
       "<div>\n",
       "<style scoped>\n",
       "    .dataframe tbody tr th:only-of-type {\n",
       "        vertical-align: middle;\n",
       "    }\n",
       "\n",
       "    .dataframe tbody tr th {\n",
       "        vertical-align: top;\n",
       "    }\n",
       "\n",
       "    .dataframe thead th {\n",
       "        text-align: right;\n",
       "    }\n",
       "</style>\n",
       "<table border=\"1\" class=\"dataframe\">\n",
       "  <thead>\n",
       "    <tr style=\"text-align: right;\">\n",
       "      <th></th>\n",
       "      <th>hotel_address</th>\n",
       "      <th>additional_number_of_scoring</th>\n",
       "      <th>review_date</th>\n",
       "      <th>average_score</th>\n",
       "      <th>hotel_name</th>\n",
       "      <th>reviewer_nationality</th>\n",
       "      <th>negative_review</th>\n",
       "      <th>review_total_negative_word_counts</th>\n",
       "      <th>total_number_of_reviews</th>\n",
       "      <th>positive_review</th>\n",
       "      <th>review_total_positive_word_counts</th>\n",
       "      <th>total_number_of_reviews_reviewer_has_given</th>\n",
       "      <th>tags</th>\n",
       "      <th>days_since_review</th>\n",
       "      <th>lat</th>\n",
       "      <th>lng</th>\n",
       "    </tr>\n",
       "  </thead>\n",
       "  <tbody>\n",
       "    <tr>\n",
       "      <th>0</th>\n",
       "      <td>Via Senigallia 6 20161 Milan Italy</td>\n",
       "      <td>904</td>\n",
       "      <td>7/21/2017</td>\n",
       "      <td>8.1</td>\n",
       "      <td>Hotel Da Vinci</td>\n",
       "      <td>United Kingdom</td>\n",
       "      <td>Would have appreciated a shop in the hotel th...</td>\n",
       "      <td>52</td>\n",
       "      <td>16670</td>\n",
       "      <td>Hotel was great clean friendly staff free bre...</td>\n",
       "      <td>62</td>\n",
       "      <td>1</td>\n",
       "      <td>[' Leisure trip ', ' Couple ', ' Double Room '...</td>\n",
       "      <td>13 days</td>\n",
       "      <td>45.533137</td>\n",
       "      <td>9.171102</td>\n",
       "    </tr>\n",
       "    <tr>\n",
       "      <th>1</th>\n",
       "      <td>Arlandaweg 10 Westpoort 1043 EW Amsterdam Neth...</td>\n",
       "      <td>612</td>\n",
       "      <td>12/12/2016</td>\n",
       "      <td>8.6</td>\n",
       "      <td>Urban Lodge Hotel</td>\n",
       "      <td>Belgium</td>\n",
       "      <td>No tissue paper box was present at the room</td>\n",
       "      <td>10</td>\n",
       "      <td>5018</td>\n",
       "      <td>No Positive</td>\n",
       "      <td>0</td>\n",
       "      <td>7</td>\n",
       "      <td>[' Leisure trip ', ' Group ', ' Triple Room ',...</td>\n",
       "      <td>234 day</td>\n",
       "      <td>52.385649</td>\n",
       "      <td>4.834443</td>\n",
       "    </tr>\n",
       "  </tbody>\n",
       "</table>\n",
       "</div>"
      ],
      "text/plain": [
       "                                       hotel_address  \\\n",
       "0                 Via Senigallia 6 20161 Milan Italy   \n",
       "1  Arlandaweg 10 Westpoort 1043 EW Amsterdam Neth...   \n",
       "\n",
       "   additional_number_of_scoring review_date  average_score         hotel_name  \\\n",
       "0                           904   7/21/2017            8.1     Hotel Da Vinci   \n",
       "1                           612  12/12/2016            8.6  Urban Lodge Hotel   \n",
       "\n",
       "  reviewer_nationality                                    negative_review  \\\n",
       "0      United Kingdom    Would have appreciated a shop in the hotel th...   \n",
       "1             Belgium         No tissue paper box was present at the room   \n",
       "\n",
       "   review_total_negative_word_counts  total_number_of_reviews  \\\n",
       "0                                 52                    16670   \n",
       "1                                 10                     5018   \n",
       "\n",
       "                                     positive_review  \\\n",
       "0   Hotel was great clean friendly staff free bre...   \n",
       "1                                        No Positive   \n",
       "\n",
       "   review_total_positive_word_counts  \\\n",
       "0                                 62   \n",
       "1                                  0   \n",
       "\n",
       "   total_number_of_reviews_reviewer_has_given  \\\n",
       "0                                           1   \n",
       "1                                           7   \n",
       "\n",
       "                                                tags days_since_review  \\\n",
       "0  [' Leisure trip ', ' Couple ', ' Double Room '...           13 days   \n",
       "1  [' Leisure trip ', ' Group ', ' Triple Room ',...           234 day   \n",
       "\n",
       "         lat       lng  \n",
       "0  45.533137  9.171102  \n",
       "1  52.385649  4.834443  "
      ]
     },
     "execution_count": 8,
     "metadata": {},
     "output_type": "execute_result"
    }
   ],
   "source": [
    "df_test.head(2)"
   ]
  },
  {
   "cell_type": "code",
   "execution_count": 9,
   "id": "4721cba4",
   "metadata": {
    "execution": {
     "iopub.execute_input": "2023-08-10T10:24:04.653973Z",
     "iopub.status.busy": "2023-08-10T10:24:04.653183Z",
     "iopub.status.idle": "2023-08-10T10:24:04.660924Z",
     "shell.execute_reply": "2023-08-10T10:24:04.661630Z",
     "shell.execute_reply.started": "2023-08-10T10:20:17.590593Z"
    },
    "papermill": {
     "duration": 0.080503,
     "end_time": "2023-08-10T10:24:04.661814",
     "exception": false,
     "start_time": "2023-08-10T10:24:04.581311",
     "status": "completed"
    },
    "tags": []
   },
   "outputs": [
    {
     "data": {
      "text/html": [
       "<div>\n",
       "<style scoped>\n",
       "    .dataframe tbody tr th:only-of-type {\n",
       "        vertical-align: middle;\n",
       "    }\n",
       "\n",
       "    .dataframe tbody tr th {\n",
       "        vertical-align: top;\n",
       "    }\n",
       "\n",
       "    .dataframe thead th {\n",
       "        text-align: right;\n",
       "    }\n",
       "</style>\n",
       "<table border=\"1\" class=\"dataframe\">\n",
       "  <thead>\n",
       "    <tr style=\"text-align: right;\">\n",
       "      <th></th>\n",
       "      <th>reviewer_score</th>\n",
       "      <th>id</th>\n",
       "    </tr>\n",
       "  </thead>\n",
       "  <tbody>\n",
       "    <tr>\n",
       "      <th>0</th>\n",
       "      <td>1</td>\n",
       "      <td>488440</td>\n",
       "    </tr>\n",
       "    <tr>\n",
       "      <th>1</th>\n",
       "      <td>10</td>\n",
       "      <td>274649</td>\n",
       "    </tr>\n",
       "  </tbody>\n",
       "</table>\n",
       "</div>"
      ],
      "text/plain": [
       "   reviewer_score      id\n",
       "0               1  488440\n",
       "1              10  274649"
      ]
     },
     "execution_count": 9,
     "metadata": {},
     "output_type": "execute_result"
    }
   ],
   "source": [
    "sample_submission.head(2)"
   ]
  },
  {
   "cell_type": "code",
   "execution_count": 10,
   "id": "b559b4c2",
   "metadata": {
    "execution": {
     "iopub.execute_input": "2023-08-10T10:24:04.807088Z",
     "iopub.status.busy": "2023-08-10T10:24:04.806293Z",
     "iopub.status.idle": "2023-08-10T10:24:04.817642Z",
     "shell.execute_reply": "2023-08-10T10:24:04.818341Z",
     "shell.execute_reply.started": "2023-08-10T10:20:17.607856Z"
    },
    "papermill": {
     "duration": 0.085747,
     "end_time": "2023-08-10T10:24:04.818544",
     "exception": false,
     "start_time": "2023-08-10T10:24:04.732797",
     "status": "completed"
    },
    "tags": []
   },
   "outputs": [
    {
     "name": "stdout",
     "output_type": "stream",
     "text": [
      "<class 'pandas.core.frame.DataFrame'>\n",
      "RangeIndex: 128935 entries, 0 to 128934\n",
      "Data columns (total 2 columns):\n",
      " #   Column          Non-Null Count   Dtype\n",
      "---  ------          --------------   -----\n",
      " 0   reviewer_score  128935 non-null  int64\n",
      " 1   id              128935 non-null  int64\n",
      "dtypes: int64(2)\n",
      "memory usage: 2.0 MB\n"
     ]
    }
   ],
   "source": [
    "sample_submission.info()"
   ]
  },
  {
   "cell_type": "code",
   "execution_count": 11,
   "id": "4f3830d7",
   "metadata": {
    "execution": {
     "iopub.execute_input": "2023-08-10T10:24:04.964632Z",
     "iopub.status.busy": "2023-08-10T10:24:04.963866Z",
     "iopub.status.idle": "2023-08-10T10:24:05.553902Z",
     "shell.execute_reply": "2023-08-10T10:24:05.553203Z",
     "shell.execute_reply.started": "2023-08-10T10:20:17.630424Z"
    },
    "papermill": {
     "duration": 0.664749,
     "end_time": "2023-08-10T10:24:05.554070",
     "exception": false,
     "start_time": "2023-08-10T10:24:04.889321",
     "status": "completed"
    },
    "tags": []
   },
   "outputs": [],
   "source": [
    "# ВАЖНО! дря корректной обработки признаков объединяем трейн и тест в один датасет\n",
    "df_train['sample'] = 1 # помечаем где у нас трейн\n",
    "df_test['sample'] = 0 # помечаем где у нас тест\n",
    "df_test['reviewer_score'] = 0 # в тесте у нас нет значения reviewer_score, мы его должны предсказать, по этому пока просто заполняем нулями\n",
    "\n",
    "data = df_test.append(df_train, sort=False).reset_index(drop=True) # объединяем"
   ]
  },
  {
   "cell_type": "code",
   "execution_count": 12,
   "id": "0f40e2ef",
   "metadata": {
    "execution": {
     "iopub.execute_input": "2023-08-10T10:24:05.701215Z",
     "iopub.status.busy": "2023-08-10T10:24:05.700059Z",
     "iopub.status.idle": "2023-08-10T10:24:06.190889Z",
     "shell.execute_reply": "2023-08-10T10:24:06.191430Z",
     "shell.execute_reply.started": "2023-08-10T10:20:17.969117Z"
    },
    "papermill": {
     "duration": 0.567127,
     "end_time": "2023-08-10T10:24:06.191645",
     "exception": false,
     "start_time": "2023-08-10T10:24:05.624518",
     "status": "completed"
    },
    "tags": []
   },
   "outputs": [
    {
     "name": "stdout",
     "output_type": "stream",
     "text": [
      "<class 'pandas.core.frame.DataFrame'>\n",
      "RangeIndex: 515738 entries, 0 to 515737\n",
      "Data columns (total 18 columns):\n",
      " #   Column                                      Non-Null Count   Dtype  \n",
      "---  ------                                      --------------   -----  \n",
      " 0   hotel_address                               515738 non-null  object \n",
      " 1   additional_number_of_scoring                515738 non-null  int64  \n",
      " 2   review_date                                 515738 non-null  object \n",
      " 3   average_score                               515738 non-null  float64\n",
      " 4   hotel_name                                  515738 non-null  object \n",
      " 5   reviewer_nationality                        515738 non-null  object \n",
      " 6   negative_review                             515738 non-null  object \n",
      " 7   review_total_negative_word_counts           515738 non-null  int64  \n",
      " 8   total_number_of_reviews                     515738 non-null  int64  \n",
      " 9   positive_review                             515738 non-null  object \n",
      " 10  review_total_positive_word_counts           515738 non-null  int64  \n",
      " 11  total_number_of_reviews_reviewer_has_given  515738 non-null  int64  \n",
      " 12  tags                                        515738 non-null  object \n",
      " 13  days_since_review                           515738 non-null  object \n",
      " 14  lat                                         512470 non-null  float64\n",
      " 15  lng                                         512470 non-null  float64\n",
      " 16  sample                                      515738 non-null  int64  \n",
      " 17  reviewer_score                              515738 non-null  float64\n",
      "dtypes: float64(4), int64(6), object(8)\n",
      "memory usage: 70.8+ MB\n"
     ]
    }
   ],
   "source": [
    "data.info()"
   ]
  },
  {
   "cell_type": "markdown",
   "id": "ac93e740",
   "metadata": {
    "papermill": {
     "duration": 0.069775,
     "end_time": "2023-08-10T10:24:06.331486",
     "exception": false,
     "start_time": "2023-08-10T10:24:06.261711",
     "status": "completed"
    },
    "tags": []
   },
   "source": [
    "# **Обработка признаков**"
   ]
  },
  {
   "cell_type": "markdown",
   "id": "af45239f",
   "metadata": {
    "papermill": {
     "duration": 0.069605,
     "end_time": "2023-08-10T10:24:06.471426",
     "exception": false,
     "start_time": "2023-08-10T10:24:06.401821",
     "status": "completed"
    },
    "tags": []
   },
   "source": [
    "**1. Признак hotel_address**"
   ]
  },
  {
   "cell_type": "code",
   "execution_count": 13,
   "id": "7343946a",
   "metadata": {
    "execution": {
     "iopub.execute_input": "2023-08-10T10:24:06.619476Z",
     "iopub.status.busy": "2023-08-10T10:24:06.618595Z",
     "iopub.status.idle": "2023-08-10T10:24:06.622166Z",
     "shell.execute_reply": "2023-08-10T10:24:06.622757Z",
     "shell.execute_reply.started": "2023-08-10T10:20:18.203077Z"
    },
    "papermill": {
     "duration": 0.081385,
     "end_time": "2023-08-10T10:24:06.622952",
     "exception": false,
     "start_time": "2023-08-10T10:24:06.541567",
     "status": "completed"
    },
    "tags": []
   },
   "outputs": [
    {
     "data": {
      "text/plain": [
       "0                   Via Senigallia 6 20161 Milan Italy\n",
       "1    Arlandaweg 10 Westpoort 1043 EW Amsterdam Neth...\n",
       "2          Mallorca 251 Eixample 08008 Barcelona Spain\n",
       "3    Piazza Della Repubblica 17 Central Station 201...\n",
       "4    Singel 303 309 Amsterdam City Center 1012 WJ A...\n",
       "Name: hotel_address, dtype: object"
      ]
     },
     "execution_count": 13,
     "metadata": {},
     "output_type": "execute_result"
    }
   ],
   "source": [
    "data['hotel_address'].head()"
   ]
  },
  {
   "cell_type": "markdown",
   "id": "ac950437",
   "metadata": {
    "papermill": {
     "duration": 0.069863,
     "end_time": "2023-08-10T10:24:06.763539",
     "exception": false,
     "start_time": "2023-08-10T10:24:06.693676",
     "status": "completed"
    },
    "tags": []
   },
   "source": [
    "Для каждой строки данного признака характерна единая структура: в самом конце адресной строки указана страна, в котором расположен отель, перед этим указан город. Воспользуемся этим и добавит в датасет новые признаки со страной и городом:"
   ]
  },
  {
   "cell_type": "code",
   "execution_count": 14,
   "id": "c7490390",
   "metadata": {
    "execution": {
     "iopub.execute_input": "2023-08-10T10:24:06.916884Z",
     "iopub.status.busy": "2023-08-10T10:24:06.914887Z",
     "iopub.status.idle": "2023-08-10T10:24:08.564972Z",
     "shell.execute_reply": "2023-08-10T10:24:08.565620Z",
     "shell.execute_reply.started": "2023-08-10T10:20:18.213448Z"
    },
    "papermill": {
     "duration": 1.731867,
     "end_time": "2023-08-10T10:24:08.565820",
     "exception": false,
     "start_time": "2023-08-10T10:24:06.833953",
     "status": "completed"
    },
    "tags": []
   },
   "outputs": [
    {
     "data": {
      "text/plain": [
       "country         city     \n",
       "Austria         Vienna        38939\n",
       "France          Paris         59928\n",
       "Italy           Milan         37207\n",
       "Netherlands     Amsterdam     57214\n",
       "Spain           Barcelona     60149\n",
       "United Kingdom  London       262301\n",
       "Name: hotel_address, dtype: int64"
      ]
     },
     "metadata": {},
     "output_type": "display_data"
    }
   ],
   "source": [
    "#Выделим страну и город, в котором расположен отель\n",
    "data['country'] = data['hotel_address'].apply(lambda x: x.split(' ')[-1] if x.split(' ')[-1]!='Kingdom' else 'United Kingdom')\n",
    "data['city'] = data['hotel_address'].apply(lambda x: x.split(' ')[-2] if x.split(' ')[-1]!='Kingdom' else 'London')\n",
    "display(data.groupby(['country', 'city'])['hotel_address'].count())"
   ]
  },
  {
   "cell_type": "markdown",
   "id": "070cf001",
   "metadata": {
    "papermill": {
     "duration": 0.072482,
     "end_time": "2023-08-10T10:24:08.709589",
     "exception": false,
     "start_time": "2023-08-10T10:24:08.637107",
     "status": "completed"
    },
    "tags": []
   },
   "source": [
    "Как видно из сгруппированных данных, между городом и страной существует взаимно однозначное соответствие, значит, один из признаков можно удалить. Удалим признак страны, а город закодируем:"
   ]
  },
  {
   "cell_type": "code",
   "execution_count": 15,
   "id": "1e31c89c",
   "metadata": {
    "execution": {
     "iopub.execute_input": "2023-08-10T10:24:08.857437Z",
     "iopub.status.busy": "2023-08-10T10:24:08.856386Z",
     "iopub.status.idle": "2023-08-10T10:24:09.725098Z",
     "shell.execute_reply": "2023-08-10T10:24:09.724385Z",
     "shell.execute_reply.started": "2023-08-10T10:20:19.239198Z"
    },
    "papermill": {
     "duration": 0.943652,
     "end_time": "2023-08-10T10:24:09.725281",
     "exception": false,
     "start_time": "2023-08-10T10:24:08.781629",
     "status": "completed"
    },
    "tags": []
   },
   "outputs": [
    {
     "data": {
      "text/plain": [
       "(515738, 23)"
      ]
     },
     "execution_count": 15,
     "metadata": {},
     "output_type": "execute_result"
    }
   ],
   "source": [
    "data = pd.get_dummies(data, columns=['city']) #получаем новые дамми-признаки\n",
    "data = data.drop(['country', 'hotel_address'], axis = 1) #удаляем страну\n",
    "data.shape"
   ]
  },
  {
   "cell_type": "markdown",
   "id": "86c0798c",
   "metadata": {
    "papermill": {
     "duration": 0.072431,
     "end_time": "2023-08-10T10:24:09.870323",
     "exception": false,
     "start_time": "2023-08-10T10:24:09.797892",
     "status": "completed"
    },
    "tags": []
   },
   "source": [
    "**2. Признак review_date** \n",
    "\n",
    "Приведем признак review_date к формату даты и времени и выделим из него месяц и время года. Год выделять не будем, так как этот признак ухудшил метрику:"
   ]
  },
  {
   "cell_type": "code",
   "execution_count": 16,
   "id": "d171bdbd",
   "metadata": {
    "execution": {
     "iopub.execute_input": "2023-08-10T10:24:10.066274Z",
     "iopub.status.busy": "2023-08-10T10:24:10.065456Z",
     "iopub.status.idle": "2023-08-10T10:24:11.562516Z",
     "shell.execute_reply": "2023-08-10T10:24:11.561832Z",
     "shell.execute_reply.started": "2023-08-10T10:20:19.791166Z"
    },
    "papermill": {
     "duration": 1.617047,
     "end_time": "2023-08-10T10:24:11.562683",
     "exception": false,
     "start_time": "2023-08-10T10:24:09.945636",
     "status": "completed"
    },
    "tags": []
   },
   "outputs": [],
   "source": [
    "data['review_date'] = pd.to_datetime(data['review_date'])\n",
    "\n",
    "data['review_month'] = data['review_date'].dt.month #выделяем месяц\n",
    "#data['review_year'] = data['review_date'].dt.year #выделяем год\n",
    "#data['review_day_of_wk'] = data['review_date'].dt.dayofweek\n",
    "\n",
    "data.drop('review_date', axis = 1, inplace=True)\n",
    "\n",
    "#data['is_weekend'] = data['review_day_of_wk'].apply(lambda x: 1 if x>4 else 0)\n",
    "data['is_spring'] = data['review_month'].apply(lambda x: 1 if x in [3,4,5] else 0)\n",
    "data['is_summer'] = data['review_month'].apply(lambda x: 1 if x in [6,7,8] else 0)\n",
    "data['is_autumn'] = data['review_month'].apply(lambda x: 1 if x in [9,10,11] else 0)"
   ]
  },
  {
   "cell_type": "code",
   "execution_count": 17,
   "id": "041bbc30",
   "metadata": {
    "execution": {
     "iopub.execute_input": "2023-08-10T10:24:11.714549Z",
     "iopub.status.busy": "2023-08-10T10:24:11.713639Z",
     "iopub.status.idle": "2023-08-10T10:24:11.717145Z",
     "shell.execute_reply": "2023-08-10T10:24:11.717726Z",
     "shell.execute_reply.started": "2023-08-10T10:20:20.577420Z"
    },
    "papermill": {
     "duration": 0.082476,
     "end_time": "2023-08-10T10:24:11.717920",
     "exception": false,
     "start_time": "2023-08-10T10:24:11.635444",
     "status": "completed"
    },
    "tags": []
   },
   "outputs": [
    {
     "data": {
      "text/plain": [
       "(515738, 26)"
      ]
     },
     "execution_count": 17,
     "metadata": {},
     "output_type": "execute_result"
    }
   ],
   "source": [
    "data.shape"
   ]
  },
  {
   "cell_type": "markdown",
   "id": "7eb3f3f0",
   "metadata": {
    "papermill": {
     "duration": 0.072661,
     "end_time": "2023-08-10T10:24:11.865628",
     "exception": false,
     "start_time": "2023-08-10T10:24:11.792967",
     "status": "completed"
    },
    "tags": []
   },
   "source": [
    "**3. Признак hotel_name**"
   ]
  },
  {
   "cell_type": "code",
   "execution_count": 18,
   "id": "ee420d3f",
   "metadata": {
    "execution": {
     "iopub.execute_input": "2023-08-10T10:24:12.056782Z",
     "iopub.status.busy": "2023-08-10T10:24:12.055719Z",
     "iopub.status.idle": "2023-08-10T10:24:12.091022Z",
     "shell.execute_reply": "2023-08-10T10:24:12.090391Z",
     "shell.execute_reply.started": "2023-08-10T10:20:20.583591Z"
    },
    "papermill": {
     "duration": 0.152146,
     "end_time": "2023-08-10T10:24:12.091185",
     "exception": false,
     "start_time": "2023-08-10T10:24:11.939039",
     "status": "completed"
    },
    "tags": []
   },
   "outputs": [
    {
     "data": {
      "text/plain": [
       "1492"
      ]
     },
     "execution_count": 18,
     "metadata": {},
     "output_type": "execute_result"
    }
   ],
   "source": [
    "data['hotel_name'].nunique(dropna=False)"
   ]
  },
  {
   "cell_type": "markdown",
   "id": "5748ac7e",
   "metadata": {
    "papermill": {
     "duration": 0.073108,
     "end_time": "2023-08-10T10:24:12.236708",
     "exception": false,
     "start_time": "2023-08-10T10:24:12.163600",
     "status": "completed"
    },
    "tags": []
   },
   "source": [
    "Данный признак имеет 1492 уникальных значений, то есть данные сгруппированы в разрезе названия отеля. Поэтому закодируем этот признак, а само название отеля удалим:"
   ]
  },
  {
   "cell_type": "code",
   "execution_count": 19,
   "id": "0481c0fe",
   "metadata": {
    "execution": {
     "iopub.execute_input": "2023-08-10T10:24:12.386192Z",
     "iopub.status.busy": "2023-08-10T10:24:12.385347Z",
     "iopub.status.idle": "2023-08-10T10:24:12.549967Z",
     "shell.execute_reply": "2023-08-10T10:24:12.550655Z",
     "shell.execute_reply.started": "2023-08-10T10:20:20.649909Z"
    },
    "papermill": {
     "duration": 0.241165,
     "end_time": "2023-08-10T10:24:12.550846",
     "exception": false,
     "start_time": "2023-08-10T10:24:12.309681",
     "status": "completed"
    },
    "tags": []
   },
   "outputs": [
    {
     "data": {
      "text/html": [
       "<div>\n",
       "<style scoped>\n",
       "    .dataframe tbody tr th:only-of-type {\n",
       "        vertical-align: middle;\n",
       "    }\n",
       "\n",
       "    .dataframe tbody tr th {\n",
       "        vertical-align: top;\n",
       "    }\n",
       "\n",
       "    .dataframe thead th {\n",
       "        text-align: right;\n",
       "    }\n",
       "</style>\n",
       "<table border=\"1\" class=\"dataframe\">\n",
       "  <thead>\n",
       "    <tr style=\"text-align: right;\">\n",
       "      <th></th>\n",
       "      <th>hotel_name</th>\n",
       "      <th>hotel_name_code</th>\n",
       "    </tr>\n",
       "  </thead>\n",
       "  <tbody>\n",
       "    <tr>\n",
       "      <th>0</th>\n",
       "      <td>Hotel Da Vinci</td>\n",
       "      <td>612</td>\n",
       "    </tr>\n",
       "    <tr>\n",
       "      <th>1</th>\n",
       "      <td>Urban Lodge Hotel</td>\n",
       "      <td>1445</td>\n",
       "    </tr>\n",
       "    <tr>\n",
       "      <th>2</th>\n",
       "      <td>Alexandra Barcelona A DoubleTree by Hilton</td>\n",
       "      <td>33</td>\n",
       "    </tr>\n",
       "    <tr>\n",
       "      <th>3</th>\n",
       "      <td>Hotel Principe Di Savoia</td>\n",
       "      <td>735</td>\n",
       "    </tr>\n",
       "    <tr>\n",
       "      <th>4</th>\n",
       "      <td>Hotel Esther a</td>\n",
       "      <td>633</td>\n",
       "    </tr>\n",
       "    <tr>\n",
       "      <th>...</th>\n",
       "      <td>...</td>\n",
       "      <td>...</td>\n",
       "    </tr>\n",
       "    <tr>\n",
       "      <th>515733</th>\n",
       "      <td>Hotel Moonlight</td>\n",
       "      <td>711</td>\n",
       "    </tr>\n",
       "    <tr>\n",
       "      <th>515734</th>\n",
       "      <td>BEST WESTERN PLUS Amedia Wien</td>\n",
       "      <td>104</td>\n",
       "    </tr>\n",
       "    <tr>\n",
       "      <th>515735</th>\n",
       "      <td>Bloomsbury Palace Hotel</td>\n",
       "      <td>177</td>\n",
       "    </tr>\n",
       "    <tr>\n",
       "      <th>515736</th>\n",
       "      <td>The Marble Arch London</td>\n",
       "      <td>1364</td>\n",
       "    </tr>\n",
       "    <tr>\n",
       "      <th>515737</th>\n",
       "      <td>The Nadler Kensington</td>\n",
       "      <td>1371</td>\n",
       "    </tr>\n",
       "  </tbody>\n",
       "</table>\n",
       "<p>515738 rows × 2 columns</p>\n",
       "</div>"
      ],
      "text/plain": [
       "                                        hotel_name  hotel_name_code\n",
       "0                                   Hotel Da Vinci              612\n",
       "1                                Urban Lodge Hotel             1445\n",
       "2       Alexandra Barcelona A DoubleTree by Hilton               33\n",
       "3                         Hotel Principe Di Savoia              735\n",
       "4                                   Hotel Esther a              633\n",
       "...                                            ...              ...\n",
       "515733                             Hotel Moonlight              711\n",
       "515734               BEST WESTERN PLUS Amedia Wien              104\n",
       "515735                     Bloomsbury Palace Hotel              177\n",
       "515736                      The Marble Arch London             1364\n",
       "515737                       The Nadler Kensington             1371\n",
       "\n",
       "[515738 rows x 2 columns]"
      ]
     },
     "execution_count": 19,
     "metadata": {},
     "output_type": "execute_result"
    }
   ],
   "source": [
    "data['hotel_name'] = data['hotel_name'].astype('category')\n",
    "data['hotel_name_code'] = data['hotel_name'].cat.codes\n",
    "\n",
    "data[['hotel_name', 'hotel_name_code']]"
   ]
  },
  {
   "cell_type": "code",
   "execution_count": 20,
   "id": "910c791b",
   "metadata": {
    "execution": {
     "iopub.execute_input": "2023-08-10T10:24:12.702249Z",
     "iopub.status.busy": "2023-08-10T10:24:12.701187Z",
     "iopub.status.idle": "2023-08-10T10:24:12.778846Z",
     "shell.execute_reply": "2023-08-10T10:24:12.779415Z",
     "shell.execute_reply.started": "2023-08-10T10:20:20.771627Z"
    },
    "papermill": {
     "duration": 0.154857,
     "end_time": "2023-08-10T10:24:12.779646",
     "exception": false,
     "start_time": "2023-08-10T10:24:12.624789",
     "status": "completed"
    },
    "tags": []
   },
   "outputs": [],
   "source": [
    "#Удалим признак\n",
    "data.drop('hotel_name', axis = 1, inplace=True)"
   ]
  },
  {
   "cell_type": "markdown",
   "id": "685126d7",
   "metadata": {
    "papermill": {
     "duration": 0.086062,
     "end_time": "2023-08-10T10:24:12.939542",
     "exception": false,
     "start_time": "2023-08-10T10:24:12.853480",
     "status": "completed"
    },
    "tags": []
   },
   "source": [
    "**4. Признак широта и долгота отеля**\n",
    "\n",
    "В датасете пропущены значения широты и долготы отеля, заполним их нулями:"
   ]
  },
  {
   "cell_type": "code",
   "execution_count": 21,
   "id": "2b30f598",
   "metadata": {
    "execution": {
     "iopub.execute_input": "2023-08-10T10:24:13.104194Z",
     "iopub.status.busy": "2023-08-10T10:24:13.103409Z",
     "iopub.status.idle": "2023-08-10T10:24:13.112937Z",
     "shell.execute_reply": "2023-08-10T10:24:13.113640Z",
     "shell.execute_reply.started": "2023-08-10T10:20:20.846620Z"
    },
    "papermill": {
     "duration": 0.091078,
     "end_time": "2023-08-10T10:24:13.113833",
     "exception": false,
     "start_time": "2023-08-10T10:24:13.022755",
     "status": "completed"
    },
    "tags": []
   },
   "outputs": [
    {
     "data": {
      "text/plain": [
       "lat    3268\n",
       "lng    3268\n",
       "dtype: int64"
      ]
     },
     "metadata": {},
     "output_type": "display_data"
    }
   ],
   "source": [
    "display(data[['lat', 'lng']].isnull().sum())\n",
    "#data_cleaned = data.dropna(axis=0)\n",
    "#data_grouped = data_cleaned.groupby(by='city',as_index=False)['lat','lng'].mean()\n",
    "\n",
    "#data_grouped"
   ]
  },
  {
   "cell_type": "code",
   "execution_count": 22,
   "id": "63a37aee",
   "metadata": {
    "execution": {
     "iopub.execute_input": "2023-08-10T10:24:13.269114Z",
     "iopub.status.busy": "2023-08-10T10:24:13.268319Z",
     "iopub.status.idle": "2023-08-10T10:24:13.278414Z",
     "shell.execute_reply": "2023-08-10T10:24:13.277718Z",
     "shell.execute_reply.started": "2023-08-10T10:20:20.865064Z"
    },
    "papermill": {
     "duration": 0.089943,
     "end_time": "2023-08-10T10:24:13.278592",
     "exception": false,
     "start_time": "2023-08-10T10:24:13.188649",
     "status": "completed"
    },
    "tags": []
   },
   "outputs": [],
   "source": [
    "\n",
    "data['lat'] = data['lat'].fillna(0)\n",
    "data['lng'] = data['lng'].fillna(0)"
   ]
  },
  {
   "cell_type": "markdown",
   "id": "d5124633",
   "metadata": {
    "papermill": {
     "duration": 0.073165,
     "end_time": "2023-08-10T10:24:13.426157",
     "exception": false,
     "start_time": "2023-08-10T10:24:13.352992",
     "status": "completed"
    },
    "tags": []
   },
   "source": [
    "**5. Обработка тегов:**"
   ]
  },
  {
   "cell_type": "markdown",
   "id": "194919f6",
   "metadata": {
    "papermill": {
     "duration": 0.074064,
     "end_time": "2023-08-10T10:24:13.574243",
     "exception": false,
     "start_time": "2023-08-10T10:24:13.500179",
     "status": "completed"
    },
    "tags": []
   },
   "source": [
    "Преобразуем теги в список и далее создадим новые признаки для 15 самых частых тегов:"
   ]
  },
  {
   "cell_type": "code",
   "execution_count": 23,
   "id": "e866b4dd",
   "metadata": {
    "execution": {
     "iopub.execute_input": "2023-08-10T10:24:13.734367Z",
     "iopub.status.busy": "2023-08-10T10:24:13.733592Z",
     "iopub.status.idle": "2023-08-10T10:24:26.003779Z",
     "shell.execute_reply": "2023-08-10T10:24:26.004398Z",
     "shell.execute_reply.started": "2023-08-10T10:20:20.884089Z"
    },
    "papermill": {
     "duration": 12.355664,
     "end_time": "2023-08-10T10:24:26.004616",
     "exception": false,
     "start_time": "2023-08-10T10:24:13.648952",
     "status": "completed"
    },
    "tags": []
   },
   "outputs": [],
   "source": [
    "d = ['[', ']', '\"', \"'\"]\n",
    "def tag_list_making(arg):\n",
    "    '''Функция преобразует теги в список'''\n",
    "    for symbol in arg: \n",
    "        if symbol in d:\n",
    "            arg = arg.replace(symbol, '')     \n",
    "    arg = arg.split(', ')\n",
    "    return arg \n",
    "data['tags'] = data['tags'].apply(tag_list_making)"
   ]
  },
  {
   "cell_type": "code",
   "execution_count": 24,
   "id": "43f69101",
   "metadata": {
    "execution": {
     "iopub.execute_input": "2023-08-10T10:24:26.158986Z",
     "iopub.status.busy": "2023-08-10T10:24:26.158219Z",
     "iopub.status.idle": "2023-08-10T10:24:32.626234Z",
     "shell.execute_reply": "2023-08-10T10:24:32.625100Z",
     "shell.execute_reply.started": "2023-08-10T10:20:29.239897Z"
    },
    "papermill": {
     "duration": 6.548148,
     "end_time": "2023-08-10T10:24:32.626402",
     "exception": false,
     "start_time": "2023-08-10T10:24:26.078254",
     "status": "completed"
    },
    "tags": []
   },
   "outputs": [],
   "source": [
    "top_tags = [' Leisure trip ',\n",
    " ' Submitted from a mobile device ',\n",
    " ' Couple ',\n",
    " ' Stayed 1 night ',\n",
    " ' Stayed 2 nights ',\n",
    " ' Solo traveler ',\n",
    " ' Stayed 3 nights ',\n",
    " ' Business trip ',\n",
    " ' Group ',\n",
    " ' Family with young children ',\n",
    "' Stayed 4 nights ',\n",
    " ' Double Room ',\n",
    " ' Standard Double Room ',\n",
    " ' Superior Double Room ',\n",
    " ' Family with older children ']\n",
    "\n",
    "for tag in top_tags:\n",
    "    tag_name = str(tag)\n",
    "    data[tag_name] =  data['tags'].apply(lambda x: 1 if tag_name in x else 0)\n",
    "\n",
    "data.drop('tags', axis = 1, inplace=True)"
   ]
  },
  {
   "cell_type": "markdown",
   "id": "8802205f",
   "metadata": {
    "papermill": {
     "duration": 0.079696,
     "end_time": "2023-08-10T10:24:32.780293",
     "exception": false,
     "start_time": "2023-08-10T10:24:32.700597",
     "status": "completed"
    },
    "tags": []
   },
   "source": [
    "**6. Признак days_since_review**\n",
    "\n",
    "Сейчас данный признак имеет тип object. Выделим из него количество дней с момента написания отзыва и преобразуем его в числовой формат:"
   ]
  },
  {
   "cell_type": "code",
   "execution_count": 25,
   "id": "8efd6f25",
   "metadata": {
    "execution": {
     "iopub.execute_input": "2023-08-10T10:24:32.950036Z",
     "iopub.status.busy": "2023-08-10T10:24:32.948836Z",
     "iopub.status.idle": "2023-08-10T10:24:33.370176Z",
     "shell.execute_reply": "2023-08-10T10:24:33.370739Z",
     "shell.execute_reply.started": "2023-08-10T10:20:32.649597Z"
    },
    "papermill": {
     "duration": 0.516614,
     "end_time": "2023-08-10T10:24:33.370946",
     "exception": false,
     "start_time": "2023-08-10T10:24:32.854332",
     "status": "completed"
    },
    "tags": []
   },
   "outputs": [],
   "source": [
    "data['days_since_review'] = data['days_since_review'].apply(lambda x: x.split()[0])\n",
    "data['days_since_review'] = data['days_since_review'].astype('int')"
   ]
  },
  {
   "cell_type": "markdown",
   "id": "49c25804",
   "metadata": {
    "papermill": {
     "duration": 0.074127,
     "end_time": "2023-08-10T10:24:33.519203",
     "exception": false,
     "start_time": "2023-08-10T10:24:33.445076",
     "status": "completed"
    },
    "tags": []
   },
   "source": [
    "**7. Признаки 'negative_review' и 'positive_review'**\n",
    "\n",
    "Сейчас данный признак имеет всего 11 уникальных строковых значений. Напишем функцию, которая определяет, есть ли негатив в отзыве:"
   ]
  },
  {
   "cell_type": "code",
   "execution_count": 26,
   "id": "755e4779",
   "metadata": {
    "execution": {
     "iopub.execute_input": "2023-08-10T10:24:33.673689Z",
     "iopub.status.busy": "2023-08-10T10:24:33.672635Z",
     "iopub.status.idle": "2023-08-10T10:24:34.053188Z",
     "shell.execute_reply": "2023-08-10T10:24:34.052408Z",
     "shell.execute_reply.started": "2023-08-10T10:20:32.909745Z"
    },
    "papermill": {
     "duration": 0.459188,
     "end_time": "2023-08-10T10:24:34.053350",
     "exception": false,
     "start_time": "2023-08-10T10:24:33.594162",
     "status": "completed"
    },
    "tags": []
   },
   "outputs": [
    {
     "data": {
      "text/plain": [
       "No Negative    127890\n",
       " Nothing        14295\n",
       " Nothing         4236\n",
       " nothing         2225\n",
       " N A             1037\n",
       " None             984\n",
       "                  849\n",
       " N a              509\n",
       " Breakfast        407\n",
       " Small room       373\n",
       " Location         368\n",
       "Name: negative_review, dtype: int64"
      ]
     },
     "execution_count": 26,
     "metadata": {},
     "output_type": "execute_result"
    }
   ],
   "source": [
    "data['negative_review'].value_counts().iloc[:11]"
   ]
  },
  {
   "cell_type": "code",
   "execution_count": 27,
   "id": "ca312623",
   "metadata": {
    "execution": {
     "iopub.execute_input": "2023-08-10T10:24:34.211843Z",
     "iopub.status.busy": "2023-08-10T10:24:34.211032Z",
     "iopub.status.idle": "2023-08-10T10:24:34.748427Z",
     "shell.execute_reply": "2023-08-10T10:24:34.747669Z",
     "shell.execute_reply.started": "2023-08-10T10:20:33.252113Z"
    },
    "papermill": {
     "duration": 0.619183,
     "end_time": "2023-08-10T10:24:34.748627",
     "exception": false,
     "start_time": "2023-08-10T10:24:34.129444",
     "status": "completed"
    },
    "tags": []
   },
   "outputs": [
    {
     "data": {
      "text/plain": [
       "1    366663\n",
       "0    149075\n",
       "Name: has_negative, dtype: int64"
      ]
     },
     "execution_count": 27,
     "metadata": {},
     "output_type": "execute_result"
    }
   ],
   "source": [
    "def has_negative_review(arg):\n",
    "    \n",
    "    '''Функция определяет, есть ли в отзыве негатив'''\n",
    "    \n",
    "    if arg.lower().strip() in ['no negative', 'nothing']:\n",
    "        return 0\n",
    "    else:\n",
    "        return 1\n",
    "    \n",
    "    \n",
    "data['has_negative'] = data['negative_review'].apply(has_negative_review)# применим функцию к столбцу\n",
    "data['has_negative'].value_counts()# посмотрим, что получилось"
   ]
  },
  {
   "cell_type": "markdown",
   "id": "31558c17",
   "metadata": {
    "papermill": {
     "duration": 0.074677,
     "end_time": "2023-08-10T10:24:34.899748",
     "exception": false,
     "start_time": "2023-08-10T10:24:34.825071",
     "status": "completed"
    },
    "tags": []
   },
   "source": [
    "Аналогичные манипуляции проделаем с признаком 'positive_review'"
   ]
  },
  {
   "cell_type": "code",
   "execution_count": 28,
   "id": "7df67c0d",
   "metadata": {
    "execution": {
     "iopub.execute_input": "2023-08-10T10:24:35.495559Z",
     "iopub.status.busy": "2023-08-10T10:24:35.054903Z",
     "iopub.status.idle": "2023-08-10T10:24:35.605361Z",
     "shell.execute_reply": "2023-08-10T10:24:35.604580Z",
     "shell.execute_reply.started": "2023-08-10T10:20:33.557608Z"
    },
    "papermill": {
     "duration": 0.629946,
     "end_time": "2023-08-10T10:24:35.605662",
     "exception": false,
     "start_time": "2023-08-10T10:24:34.975716",
     "status": "completed"
    },
    "tags": []
   },
   "outputs": [
    {
     "data": {
      "text/plain": [
       "No Positive                                                                                                                                                35946\n",
       " Location                                                                                                                                                   9222\n",
       " Everything                                                                                                                                                 2284\n",
       " location                                                                                                                                                   1677\n",
       " Nothing                                                                                                                                                    1243\n",
       "                                                                                                                                                           ...  \n",
       " Lots places to eat near Also near Paddington And Oxford Street shops                                                                                          1\n",
       " The booking station was fantastic the breakfast was delicious and staff were really friendly I loved the reception area and the front of the hotel            1\n",
       " Great location nice stuff cosy clean and calm room what esle is needed                                                                                        1\n",
       " The room overlooked the lake and we had wonderful weather Our stay at Hotel Pallanza was made special by the staff who were very friendly and helpful         1\n",
       " Beds comfortable Pillows also good Homely feel although room was small Staff very pleasant and helpful thank you                                              1\n",
       "Name: positive_review, Length: 412601, dtype: int64"
      ]
     },
     "execution_count": 28,
     "metadata": {},
     "output_type": "execute_result"
    }
   ],
   "source": [
    "data['positive_review'].value_counts()"
   ]
  },
  {
   "cell_type": "code",
   "execution_count": 29,
   "id": "7c18af70",
   "metadata": {
    "execution": {
     "iopub.execute_input": "2023-08-10T10:24:35.767678Z",
     "iopub.status.busy": "2023-08-10T10:24:35.762080Z",
     "iopub.status.idle": "2023-08-10T10:24:36.304804Z",
     "shell.execute_reply": "2023-08-10T10:24:36.304160Z",
     "shell.execute_reply.started": "2023-08-10T10:20:34.134817Z"
    },
    "papermill": {
     "duration": 0.624319,
     "end_time": "2023-08-10T10:24:36.304961",
     "exception": false,
     "start_time": "2023-08-10T10:24:35.680642",
     "status": "completed"
    },
    "tags": []
   },
   "outputs": [
    {
     "data": {
      "text/plain": [
       "1    478061\n",
       "0     37677\n",
       "Name: has_positive, dtype: int64"
      ]
     },
     "execution_count": 29,
     "metadata": {},
     "output_type": "execute_result"
    }
   ],
   "source": [
    "def has_positive_review(arg):\n",
    "    \n",
    "    '''Функция определяет, есть ли в отзыве позитив'''\n",
    "    \n",
    "    if arg.lower().strip() in ['no positive', 'nothing']:\n",
    "        return 0\n",
    "    else:\n",
    "        return 1\n",
    "    \n",
    "    \n",
    "data['has_positive'] = data['positive_review'].apply(has_positive_review)\n",
    "data['has_positive'].value_counts()"
   ]
  },
  {
   "cell_type": "markdown",
   "id": "277d89e2",
   "metadata": {
    "papermill": {
     "duration": 0.075461,
     "end_time": "2023-08-10T10:24:36.456654",
     "exception": false,
     "start_time": "2023-08-10T10:24:36.381193",
     "status": "completed"
    },
    "tags": []
   },
   "source": [
    "Удалим признаки 'negative_review' и 'positive_review':"
   ]
  },
  {
   "cell_type": "code",
   "execution_count": 30,
   "id": "ddc96e31",
   "metadata": {
    "execution": {
     "iopub.execute_input": "2023-08-10T10:24:36.616789Z",
     "iopub.status.busy": "2023-08-10T10:24:36.616000Z",
     "iopub.status.idle": "2023-08-10T10:24:36.762851Z",
     "shell.execute_reply": "2023-08-10T10:24:36.762191Z",
     "shell.execute_reply.started": "2023-08-10T10:20:34.451186Z"
    },
    "papermill": {
     "duration": 0.230752,
     "end_time": "2023-08-10T10:24:36.763035",
     "exception": false,
     "start_time": "2023-08-10T10:24:36.532283",
     "status": "completed"
    },
    "tags": []
   },
   "outputs": [],
   "source": [
    "data.drop(['negative_review','positive_review'], axis = 1, inplace=True)"
   ]
  },
  {
   "cell_type": "markdown",
   "id": "e95ac6e2",
   "metadata": {
    "papermill": {
     "duration": 0.07658,
     "end_time": "2023-08-10T10:24:36.916875",
     "exception": false,
     "start_time": "2023-08-10T10:24:36.840295",
     "status": "completed"
    },
    "tags": []
   },
   "source": [
    "**8. Признак reviewer_nationality**\n",
    "\n",
    "Из данного признака извлечем самые частые национальности респондентов и выделим их в отдельные признаки. Национальности респондентов, которые оставили менее 7000 отзвывов объединим в 'other':"
   ]
  },
  {
   "cell_type": "code",
   "execution_count": 31,
   "id": "da62f24e",
   "metadata": {
    "execution": {
     "iopub.execute_input": "2023-08-10T10:24:37.079384Z",
     "iopub.status.busy": "2023-08-10T10:24:37.078610Z",
     "iopub.status.idle": "2023-08-10T10:24:37.177437Z",
     "shell.execute_reply": "2023-08-10T10:24:37.176427Z",
     "shell.execute_reply.started": "2023-08-10T10:20:34.536708Z"
    },
    "papermill": {
     "duration": 0.183534,
     "end_time": "2023-08-10T10:24:37.177642",
     "exception": false,
     "start_time": "2023-08-10T10:24:36.994108",
     "status": "completed"
    },
    "tags": []
   },
   "outputs": [
    {
     "data": {
      "text/html": [
       "<div>\n",
       "<style scoped>\n",
       "    .dataframe tbody tr th:only-of-type {\n",
       "        vertical-align: middle;\n",
       "    }\n",
       "\n",
       "    .dataframe tbody tr th {\n",
       "        vertical-align: top;\n",
       "    }\n",
       "\n",
       "    .dataframe thead th {\n",
       "        text-align: right;\n",
       "    }\n",
       "</style>\n",
       "<table border=\"1\" class=\"dataframe\">\n",
       "  <thead>\n",
       "    <tr style=\"text-align: right;\">\n",
       "      <th></th>\n",
       "      <th>reviewer_nationality</th>\n",
       "    </tr>\n",
       "  </thead>\n",
       "  <tbody>\n",
       "    <tr>\n",
       "      <th>United Kingdom</th>\n",
       "      <td>245246</td>\n",
       "    </tr>\n",
       "    <tr>\n",
       "      <th>United States of America</th>\n",
       "      <td>35437</td>\n",
       "    </tr>\n",
       "    <tr>\n",
       "      <th>Australia</th>\n",
       "      <td>21686</td>\n",
       "    </tr>\n",
       "    <tr>\n",
       "      <th>Ireland</th>\n",
       "      <td>14827</td>\n",
       "    </tr>\n",
       "    <tr>\n",
       "      <th>United Arab Emirates</th>\n",
       "      <td>10235</td>\n",
       "    </tr>\n",
       "  </tbody>\n",
       "</table>\n",
       "</div>"
      ],
      "text/plain": [
       "                            reviewer_nationality\n",
       " United Kingdom                           245246\n",
       " United States of America                  35437\n",
       " Australia                                 21686\n",
       " Ireland                                   14827\n",
       " United Arab Emirates                      10235"
      ]
     },
     "execution_count": 31,
     "metadata": {},
     "output_type": "execute_result"
    }
   ],
   "source": [
    "df_vc = pd.DataFrame(data['reviewer_nationality'].value_counts())\n",
    "df_vc = df_vc.drop(df_vc[df_vc['reviewer_nationality']<7000].index)\n",
    "df_vc.head()"
   ]
  },
  {
   "cell_type": "code",
   "execution_count": 32,
   "id": "4d95d92c",
   "metadata": {
    "execution": {
     "iopub.execute_input": "2023-08-10T10:24:37.334770Z",
     "iopub.status.busy": "2023-08-10T10:24:37.333960Z",
     "iopub.status.idle": "2023-08-10T10:24:42.118128Z",
     "shell.execute_reply": "2023-08-10T10:24:42.118754Z",
     "shell.execute_reply.started": "2023-08-10T10:20:34.578278Z"
    },
    "papermill": {
     "duration": 4.86463,
     "end_time": "2023-08-10T10:24:42.118979",
     "exception": false,
     "start_time": "2023-08-10T10:24:37.254349",
     "status": "completed"
    },
    "tags": []
   },
   "outputs": [],
   "source": [
    "for nat in df_vc.index:\n",
    "    data['reviewer_nationality_'+nat] = data['reviewer_nationality'].apply(lambda x: 1 if x == nat else 0)\n",
    "data['reviewer_nationality_other'] = data['reviewer_nationality'].apply(lambda x: 1 if x not in df_vc.index else 0)\n",
    "data.drop('reviewer_nationality', axis = 1, inplace=True)"
   ]
  },
  {
   "cell_type": "code",
   "execution_count": 33,
   "id": "fc5878c9",
   "metadata": {
    "execution": {
     "iopub.execute_input": "2023-08-10T10:24:42.278263Z",
     "iopub.status.busy": "2023-08-10T10:24:42.277492Z",
     "iopub.status.idle": "2023-08-10T10:24:43.080371Z",
     "shell.execute_reply": "2023-08-10T10:24:43.079656Z",
     "shell.execute_reply.started": "2023-08-10T10:20:36.899218Z"
    },
    "papermill": {
     "duration": 0.883102,
     "end_time": "2023-08-10T10:24:43.080541",
     "exception": false,
     "start_time": "2023-08-10T10:24:42.197439",
     "status": "completed"
    },
    "tags": []
   },
   "outputs": [
    {
     "data": {
      "text/html": [
       "<div>\n",
       "<style scoped>\n",
       "    .dataframe tbody tr th:only-of-type {\n",
       "        vertical-align: middle;\n",
       "    }\n",
       "\n",
       "    .dataframe tbody tr th {\n",
       "        vertical-align: top;\n",
       "    }\n",
       "\n",
       "    .dataframe thead th {\n",
       "        text-align: right;\n",
       "    }\n",
       "</style>\n",
       "<table border=\"1\" class=\"dataframe\">\n",
       "  <thead>\n",
       "    <tr style=\"text-align: right;\">\n",
       "      <th></th>\n",
       "      <th>additional_number_of_scoring</th>\n",
       "      <th>average_score</th>\n",
       "      <th>review_total_negative_word_counts</th>\n",
       "      <th>total_number_of_reviews</th>\n",
       "      <th>review_total_positive_word_counts</th>\n",
       "      <th>total_number_of_reviews_reviewer_has_given</th>\n",
       "      <th>days_since_review</th>\n",
       "      <th>lat</th>\n",
       "      <th>lng</th>\n",
       "      <th>sample</th>\n",
       "      <th>...</th>\n",
       "      <th>reviewer_nationality_ Australia</th>\n",
       "      <th>reviewer_nationality_ Ireland</th>\n",
       "      <th>reviewer_nationality_ United Arab Emirates</th>\n",
       "      <th>reviewer_nationality_ Saudi Arabia</th>\n",
       "      <th>reviewer_nationality_ Netherlands</th>\n",
       "      <th>reviewer_nationality_ Switzerland</th>\n",
       "      <th>reviewer_nationality_ Germany</th>\n",
       "      <th>reviewer_nationality_ Canada</th>\n",
       "      <th>reviewer_nationality_ France</th>\n",
       "      <th>reviewer_nationality_other</th>\n",
       "    </tr>\n",
       "  </thead>\n",
       "  <tbody>\n",
       "    <tr>\n",
       "      <th>count</th>\n",
       "      <td>515738.000000</td>\n",
       "      <td>515738.000000</td>\n",
       "      <td>515738.000000</td>\n",
       "      <td>515738.000000</td>\n",
       "      <td>515738.000000</td>\n",
       "      <td>515738.000000</td>\n",
       "      <td>515738.000000</td>\n",
       "      <td>515738.000000</td>\n",
       "      <td>515738.000000</td>\n",
       "      <td>515738.000000</td>\n",
       "      <td>...</td>\n",
       "      <td>515738.000000</td>\n",
       "      <td>515738.000000</td>\n",
       "      <td>515738.000000</td>\n",
       "      <td>515738.000000</td>\n",
       "      <td>515738.000000</td>\n",
       "      <td>515738.000000</td>\n",
       "      <td>515738.000000</td>\n",
       "      <td>515738.000000</td>\n",
       "      <td>515738.000000</td>\n",
       "      <td>515738.000000</td>\n",
       "    </tr>\n",
       "    <tr>\n",
       "      <th>mean</th>\n",
       "      <td>498.081836</td>\n",
       "      <td>8.397487</td>\n",
       "      <td>18.539450</td>\n",
       "      <td>2743.743944</td>\n",
       "      <td>17.776458</td>\n",
       "      <td>7.166001</td>\n",
       "      <td>354.441932</td>\n",
       "      <td>49.129144</td>\n",
       "      <td>2.805910</td>\n",
       "      <td>0.749999</td>\n",
       "      <td>...</td>\n",
       "      <td>0.042048</td>\n",
       "      <td>0.028749</td>\n",
       "      <td>0.019845</td>\n",
       "      <td>0.017356</td>\n",
       "      <td>0.017009</td>\n",
       "      <td>0.016826</td>\n",
       "      <td>0.015397</td>\n",
       "      <td>0.015306</td>\n",
       "      <td>0.014147</td>\n",
       "      <td>0.269080</td>\n",
       "    </tr>\n",
       "    <tr>\n",
       "      <th>std</th>\n",
       "      <td>500.538467</td>\n",
       "      <td>0.548048</td>\n",
       "      <td>29.690831</td>\n",
       "      <td>2317.464868</td>\n",
       "      <td>21.804185</td>\n",
       "      <td>11.040228</td>\n",
       "      <td>208.928124</td>\n",
       "      <td>5.227925</td>\n",
       "      <td>4.570389</td>\n",
       "      <td>0.433014</td>\n",
       "      <td>...</td>\n",
       "      <td>0.200700</td>\n",
       "      <td>0.167101</td>\n",
       "      <td>0.139469</td>\n",
       "      <td>0.130593</td>\n",
       "      <td>0.129303</td>\n",
       "      <td>0.128621</td>\n",
       "      <td>0.123127</td>\n",
       "      <td>0.122768</td>\n",
       "      <td>0.118096</td>\n",
       "      <td>0.443482</td>\n",
       "    </tr>\n",
       "    <tr>\n",
       "      <th>min</th>\n",
       "      <td>1.000000</td>\n",
       "      <td>5.200000</td>\n",
       "      <td>0.000000</td>\n",
       "      <td>43.000000</td>\n",
       "      <td>0.000000</td>\n",
       "      <td>1.000000</td>\n",
       "      <td>0.000000</td>\n",
       "      <td>0.000000</td>\n",
       "      <td>-0.369758</td>\n",
       "      <td>0.000000</td>\n",
       "      <td>...</td>\n",
       "      <td>0.000000</td>\n",
       "      <td>0.000000</td>\n",
       "      <td>0.000000</td>\n",
       "      <td>0.000000</td>\n",
       "      <td>0.000000</td>\n",
       "      <td>0.000000</td>\n",
       "      <td>0.000000</td>\n",
       "      <td>0.000000</td>\n",
       "      <td>0.000000</td>\n",
       "      <td>0.000000</td>\n",
       "    </tr>\n",
       "    <tr>\n",
       "      <th>25%</th>\n",
       "      <td>169.000000</td>\n",
       "      <td>8.100000</td>\n",
       "      <td>2.000000</td>\n",
       "      <td>1161.000000</td>\n",
       "      <td>5.000000</td>\n",
       "      <td>1.000000</td>\n",
       "      <td>175.000000</td>\n",
       "      <td>48.212857</td>\n",
       "      <td>-0.143372</td>\n",
       "      <td>0.250000</td>\n",
       "      <td>...</td>\n",
       "      <td>0.000000</td>\n",
       "      <td>0.000000</td>\n",
       "      <td>0.000000</td>\n",
       "      <td>0.000000</td>\n",
       "      <td>0.000000</td>\n",
       "      <td>0.000000</td>\n",
       "      <td>0.000000</td>\n",
       "      <td>0.000000</td>\n",
       "      <td>0.000000</td>\n",
       "      <td>0.000000</td>\n",
       "    </tr>\n",
       "    <tr>\n",
       "      <th>50%</th>\n",
       "      <td>341.000000</td>\n",
       "      <td>8.400000</td>\n",
       "      <td>9.000000</td>\n",
       "      <td>2134.000000</td>\n",
       "      <td>11.000000</td>\n",
       "      <td>3.000000</td>\n",
       "      <td>353.000000</td>\n",
       "      <td>51.499981</td>\n",
       "      <td>0.000000</td>\n",
       "      <td>1.000000</td>\n",
       "      <td>...</td>\n",
       "      <td>0.000000</td>\n",
       "      <td>0.000000</td>\n",
       "      <td>0.000000</td>\n",
       "      <td>0.000000</td>\n",
       "      <td>0.000000</td>\n",
       "      <td>0.000000</td>\n",
       "      <td>0.000000</td>\n",
       "      <td>0.000000</td>\n",
       "      <td>0.000000</td>\n",
       "      <td>0.000000</td>\n",
       "    </tr>\n",
       "    <tr>\n",
       "      <th>75%</th>\n",
       "      <td>660.000000</td>\n",
       "      <td>8.800000</td>\n",
       "      <td>23.000000</td>\n",
       "      <td>3613.000000</td>\n",
       "      <td>22.000000</td>\n",
       "      <td>8.000000</td>\n",
       "      <td>527.000000</td>\n",
       "      <td>51.516288</td>\n",
       "      <td>4.831098</td>\n",
       "      <td>1.000000</td>\n",
       "      <td>...</td>\n",
       "      <td>0.000000</td>\n",
       "      <td>0.000000</td>\n",
       "      <td>0.000000</td>\n",
       "      <td>0.000000</td>\n",
       "      <td>0.000000</td>\n",
       "      <td>0.000000</td>\n",
       "      <td>0.000000</td>\n",
       "      <td>0.000000</td>\n",
       "      <td>0.000000</td>\n",
       "      <td>1.000000</td>\n",
       "    </tr>\n",
       "    <tr>\n",
       "      <th>max</th>\n",
       "      <td>2682.000000</td>\n",
       "      <td>9.800000</td>\n",
       "      <td>408.000000</td>\n",
       "      <td>16670.000000</td>\n",
       "      <td>395.000000</td>\n",
       "      <td>355.000000</td>\n",
       "      <td>730.000000</td>\n",
       "      <td>52.400181</td>\n",
       "      <td>16.429233</td>\n",
       "      <td>1.000000</td>\n",
       "      <td>...</td>\n",
       "      <td>1.000000</td>\n",
       "      <td>1.000000</td>\n",
       "      <td>1.000000</td>\n",
       "      <td>1.000000</td>\n",
       "      <td>1.000000</td>\n",
       "      <td>1.000000</td>\n",
       "      <td>1.000000</td>\n",
       "      <td>1.000000</td>\n",
       "      <td>1.000000</td>\n",
       "      <td>1.000000</td>\n",
       "    </tr>\n",
       "  </tbody>\n",
       "</table>\n",
       "<p>8 rows × 51 columns</p>\n",
       "</div>"
      ],
      "text/plain": [
       "       additional_number_of_scoring  average_score  \\\n",
       "count                 515738.000000  515738.000000   \n",
       "mean                     498.081836       8.397487   \n",
       "std                      500.538467       0.548048   \n",
       "min                        1.000000       5.200000   \n",
       "25%                      169.000000       8.100000   \n",
       "50%                      341.000000       8.400000   \n",
       "75%                      660.000000       8.800000   \n",
       "max                     2682.000000       9.800000   \n",
       "\n",
       "       review_total_negative_word_counts  total_number_of_reviews  \\\n",
       "count                      515738.000000            515738.000000   \n",
       "mean                           18.539450              2743.743944   \n",
       "std                            29.690831              2317.464868   \n",
       "min                             0.000000                43.000000   \n",
       "25%                             2.000000              1161.000000   \n",
       "50%                             9.000000              2134.000000   \n",
       "75%                            23.000000              3613.000000   \n",
       "max                           408.000000             16670.000000   \n",
       "\n",
       "       review_total_positive_word_counts  \\\n",
       "count                      515738.000000   \n",
       "mean                           17.776458   \n",
       "std                            21.804185   \n",
       "min                             0.000000   \n",
       "25%                             5.000000   \n",
       "50%                            11.000000   \n",
       "75%                            22.000000   \n",
       "max                           395.000000   \n",
       "\n",
       "       total_number_of_reviews_reviewer_has_given  days_since_review  \\\n",
       "count                               515738.000000      515738.000000   \n",
       "mean                                     7.166001         354.441932   \n",
       "std                                     11.040228         208.928124   \n",
       "min                                      1.000000           0.000000   \n",
       "25%                                      1.000000         175.000000   \n",
       "50%                                      3.000000         353.000000   \n",
       "75%                                      8.000000         527.000000   \n",
       "max                                    355.000000         730.000000   \n",
       "\n",
       "                 lat            lng         sample  ...  \\\n",
       "count  515738.000000  515738.000000  515738.000000  ...   \n",
       "mean       49.129144       2.805910       0.749999  ...   \n",
       "std         5.227925       4.570389       0.433014  ...   \n",
       "min         0.000000      -0.369758       0.000000  ...   \n",
       "25%        48.212857      -0.143372       0.250000  ...   \n",
       "50%        51.499981       0.000000       1.000000  ...   \n",
       "75%        51.516288       4.831098       1.000000  ...   \n",
       "max        52.400181      16.429233       1.000000  ...   \n",
       "\n",
       "       reviewer_nationality_ Australia   reviewer_nationality_ Ireland   \\\n",
       "count                     515738.000000                   515738.000000   \n",
       "mean                           0.042048                        0.028749   \n",
       "std                            0.200700                        0.167101   \n",
       "min                            0.000000                        0.000000   \n",
       "25%                            0.000000                        0.000000   \n",
       "50%                            0.000000                        0.000000   \n",
       "75%                            0.000000                        0.000000   \n",
       "max                            1.000000                        1.000000   \n",
       "\n",
       "       reviewer_nationality_ United Arab Emirates   \\\n",
       "count                                515738.000000   \n",
       "mean                                      0.019845   \n",
       "std                                       0.139469   \n",
       "min                                       0.000000   \n",
       "25%                                       0.000000   \n",
       "50%                                       0.000000   \n",
       "75%                                       0.000000   \n",
       "max                                       1.000000   \n",
       "\n",
       "       reviewer_nationality_ Saudi Arabia   \\\n",
       "count                        515738.000000   \n",
       "mean                              0.017356   \n",
       "std                               0.130593   \n",
       "min                               0.000000   \n",
       "25%                               0.000000   \n",
       "50%                               0.000000   \n",
       "75%                               0.000000   \n",
       "max                               1.000000   \n",
       "\n",
       "       reviewer_nationality_ Netherlands   reviewer_nationality_ Switzerland   \\\n",
       "count                       515738.000000                       515738.000000   \n",
       "mean                             0.017009                            0.016826   \n",
       "std                              0.129303                            0.128621   \n",
       "min                              0.000000                            0.000000   \n",
       "25%                              0.000000                            0.000000   \n",
       "50%                              0.000000                            0.000000   \n",
       "75%                              0.000000                            0.000000   \n",
       "max                              1.000000                            1.000000   \n",
       "\n",
       "       reviewer_nationality_ Germany   reviewer_nationality_ Canada   \\\n",
       "count                   515738.000000                  515738.000000   \n",
       "mean                         0.015397                       0.015306   \n",
       "std                          0.123127                       0.122768   \n",
       "min                          0.000000                       0.000000   \n",
       "25%                          0.000000                       0.000000   \n",
       "50%                          0.000000                       0.000000   \n",
       "75%                          0.000000                       0.000000   \n",
       "max                          1.000000                       1.000000   \n",
       "\n",
       "       reviewer_nationality_ France   reviewer_nationality_other  \n",
       "count                  515738.000000               515738.000000  \n",
       "mean                        0.014147                    0.269080  \n",
       "std                         0.118096                    0.443482  \n",
       "min                         0.000000                    0.000000  \n",
       "25%                         0.000000                    0.000000  \n",
       "50%                         0.000000                    0.000000  \n",
       "75%                         0.000000                    1.000000  \n",
       "max                         1.000000                    1.000000  \n",
       "\n",
       "[8 rows x 51 columns]"
      ]
     },
     "execution_count": 33,
     "metadata": {},
     "output_type": "execute_result"
    }
   ],
   "source": [
    "data.describe()"
   ]
  },
  {
   "cell_type": "markdown",
   "id": "a73ac3a5",
   "metadata": {
    "papermill": {
     "duration": 0.076955,
     "end_time": "2023-08-10T10:24:43.235733",
     "exception": false,
     "start_time": "2023-08-10T10:24:43.158778",
     "status": "completed"
    },
    "tags": []
   },
   "source": [
    "Получившиеся признаки:"
   ]
  },
  {
   "cell_type": "code",
   "execution_count": 34,
   "id": "f20c3616",
   "metadata": {
    "execution": {
     "iopub.execute_input": "2023-08-10T10:24:43.396101Z",
     "iopub.status.busy": "2023-08-10T10:24:43.394991Z",
     "iopub.status.idle": "2023-08-10T10:24:43.578005Z",
     "shell.execute_reply": "2023-08-10T10:24:43.577212Z",
     "shell.execute_reply.started": "2023-08-10T10:20:37.432082Z"
    },
    "papermill": {
     "duration": 0.265726,
     "end_time": "2023-08-10T10:24:43.578182",
     "exception": false,
     "start_time": "2023-08-10T10:24:43.312456",
     "status": "completed"
    },
    "tags": []
   },
   "outputs": [
    {
     "data": {
      "text/plain": [
       "additional_number_of_scoring                        480\n",
       "average_score                                        34\n",
       "review_total_negative_word_counts                   402\n",
       "total_number_of_reviews                            1142\n",
       "review_total_positive_word_counts                   365\n",
       "total_number_of_reviews_reviewer_has_given          198\n",
       "days_since_review                                   731\n",
       "lat                                                1473\n",
       "lng                                                1473\n",
       "sample                                                2\n",
       "reviewer_score                                       38\n",
       "city_Amsterdam                                        2\n",
       "city_Barcelona                                        2\n",
       "city_London                                           2\n",
       "city_Milan                                            2\n",
       "city_Paris                                            2\n",
       "city_Vienna                                           2\n",
       "review_month                                         12\n",
       "is_spring                                             2\n",
       "is_summer                                             2\n",
       "is_autumn                                             2\n",
       "hotel_name_code                                    1492\n",
       " Leisure trip                                         2\n",
       " Submitted from a mobile device                       2\n",
       " Couple                                               2\n",
       " Stayed 1 night                                       2\n",
       " Stayed 2 nights                                      2\n",
       " Solo traveler                                        2\n",
       " Stayed 3 nights                                      2\n",
       " Business trip                                        2\n",
       " Group                                                2\n",
       " Family with young children                           2\n",
       " Stayed 4 nights                                      2\n",
       " Double Room                                          2\n",
       " Standard Double Room                                 2\n",
       " Superior Double Room                                 2\n",
       " Family with older children                           2\n",
       "has_negative                                          2\n",
       "has_positive                                          2\n",
       "reviewer_nationality_ United Kingdom                  2\n",
       "reviewer_nationality_ United States of America        2\n",
       "reviewer_nationality_ Australia                       2\n",
       "reviewer_nationality_ Ireland                         2\n",
       "reviewer_nationality_ United Arab Emirates            2\n",
       "reviewer_nationality_ Saudi Arabia                    2\n",
       "reviewer_nationality_ Netherlands                     2\n",
       "reviewer_nationality_ Switzerland                     2\n",
       "reviewer_nationality_ Germany                         2\n",
       "reviewer_nationality_ Canada                          2\n",
       "reviewer_nationality_ France                          2\n",
       "reviewer_nationality_other                            2\n",
       "dtype: int64"
      ]
     },
     "execution_count": 34,
     "metadata": {},
     "output_type": "execute_result"
    }
   ],
   "source": [
    "data.nunique(dropna=False)"
   ]
  },
  {
   "cell_type": "markdown",
   "id": "e9cdfdf2",
   "metadata": {
    "papermill": {
     "duration": 0.07707,
     "end_time": "2023-08-10T10:24:43.733161",
     "exception": false,
     "start_time": "2023-08-10T10:24:43.656091",
     "status": "completed"
    },
    "tags": []
   },
   "source": [
    "## Корреляция и нормализация признаков\n",
    "\n",
    "**1. Корреляция**\n",
    "\n",
    "Выведем признаки, которые имеют коррелцию выше 0.85 и удалим один из них:"
   ]
  },
  {
   "cell_type": "code",
   "execution_count": 35,
   "id": "dc89caad",
   "metadata": {
    "execution": {
     "iopub.execute_input": "2023-08-10T10:24:43.898674Z",
     "iopub.status.busy": "2023-08-10T10:24:43.897824Z",
     "iopub.status.idle": "2023-08-10T10:24:48.907168Z",
     "shell.execute_reply": "2023-08-10T10:24:48.907824Z",
     "shell.execute_reply.started": "2023-08-10T10:20:37.554138Z"
    },
    "papermill": {
     "duration": 5.097054,
     "end_time": "2023-08-10T10:24:48.908029",
     "exception": false,
     "start_time": "2023-08-10T10:24:43.810975",
     "status": "completed"
    },
    "tags": []
   },
   "outputs": [
    {
     "data": {
      "text/html": [
       "        <script type=\"text/javascript\">\n",
       "        window.PlotlyConfig = {MathJaxConfig: 'local'};\n",
       "        if (window.MathJax) {MathJax.Hub.Config({SVG: {font: \"STIX-Web\"}});}\n",
       "        if (typeof require !== 'undefined') {\n",
       "        require.undef(\"plotly\");\n",
       "        requirejs.config({\n",
       "            paths: {\n",
       "                'plotly': ['https://cdn.plot.ly/plotly-2.8.3.min']\n",
       "            }\n",
       "        });\n",
       "        require(['plotly'], function(Plotly) {\n",
       "            window._Plotly = Plotly;\n",
       "        });\n",
       "        }\n",
       "        </script>\n",
       "        "
      ]
     },
     "metadata": {},
     "output_type": "display_data"
    },
    {
     "data": {
      "text/html": [
       "<div>                            <div id=\"58235ac9-fcb6-41e1-b66e-a9e36b558a17\" class=\"plotly-graph-div\" style=\"height:525px; width:100%;\"></div>            <script type=\"text/javascript\">                require([\"plotly\"], function(Plotly) {                    window.PLOTLYENV=window.PLOTLYENV || {};                                    if (document.getElementById(\"58235ac9-fcb6-41e1-b66e-a9e36b558a17\")) {                    Plotly.newPlot(                        \"58235ac9-fcb6-41e1-b66e-a9e36b558a17\",                        [{\"coloraxis\":\"coloraxis\",\"name\":\"0\",\"x\":[\" Leisure trip \",\" Business trip \"],\"y\":[\" Leisure trip \",\" Business trip \"],\"z\":[[null,-0.9040337997914786],[-0.9040337997914786,null]],\"type\":\"heatmap\",\"xaxis\":\"x\",\"yaxis\":\"y\",\"hovertemplate\":\"x: %{x}<br>y: %{y}<br>color: %{z}<extra></extra>\"}],                        {\"template\":{\"data\":{\"bar\":[{\"error_x\":{\"color\":\"#2a3f5f\"},\"error_y\":{\"color\":\"#2a3f5f\"},\"marker\":{\"line\":{\"color\":\"#E5ECF6\",\"width\":0.5},\"pattern\":{\"fillmode\":\"overlay\",\"size\":10,\"solidity\":0.2}},\"type\":\"bar\"}],\"barpolar\":[{\"marker\":{\"line\":{\"color\":\"#E5ECF6\",\"width\":0.5},\"pattern\":{\"fillmode\":\"overlay\",\"size\":10,\"solidity\":0.2}},\"type\":\"barpolar\"}],\"carpet\":[{\"aaxis\":{\"endlinecolor\":\"#2a3f5f\",\"gridcolor\":\"white\",\"linecolor\":\"white\",\"minorgridcolor\":\"white\",\"startlinecolor\":\"#2a3f5f\"},\"baxis\":{\"endlinecolor\":\"#2a3f5f\",\"gridcolor\":\"white\",\"linecolor\":\"white\",\"minorgridcolor\":\"white\",\"startlinecolor\":\"#2a3f5f\"},\"type\":\"carpet\"}],\"choropleth\":[{\"colorbar\":{\"outlinewidth\":0,\"ticks\":\"\"},\"type\":\"choropleth\"}],\"contour\":[{\"colorbar\":{\"outlinewidth\":0,\"ticks\":\"\"},\"colorscale\":[[0.0,\"#0d0887\"],[0.1111111111111111,\"#46039f\"],[0.2222222222222222,\"#7201a8\"],[0.3333333333333333,\"#9c179e\"],[0.4444444444444444,\"#bd3786\"],[0.5555555555555556,\"#d8576b\"],[0.6666666666666666,\"#ed7953\"],[0.7777777777777778,\"#fb9f3a\"],[0.8888888888888888,\"#fdca26\"],[1.0,\"#f0f921\"]],\"type\":\"contour\"}],\"contourcarpet\":[{\"colorbar\":{\"outlinewidth\":0,\"ticks\":\"\"},\"type\":\"contourcarpet\"}],\"heatmap\":[{\"colorbar\":{\"outlinewidth\":0,\"ticks\":\"\"},\"colorscale\":[[0.0,\"#0d0887\"],[0.1111111111111111,\"#46039f\"],[0.2222222222222222,\"#7201a8\"],[0.3333333333333333,\"#9c179e\"],[0.4444444444444444,\"#bd3786\"],[0.5555555555555556,\"#d8576b\"],[0.6666666666666666,\"#ed7953\"],[0.7777777777777778,\"#fb9f3a\"],[0.8888888888888888,\"#fdca26\"],[1.0,\"#f0f921\"]],\"type\":\"heatmap\"}],\"heatmapgl\":[{\"colorbar\":{\"outlinewidth\":0,\"ticks\":\"\"},\"colorscale\":[[0.0,\"#0d0887\"],[0.1111111111111111,\"#46039f\"],[0.2222222222222222,\"#7201a8\"],[0.3333333333333333,\"#9c179e\"],[0.4444444444444444,\"#bd3786\"],[0.5555555555555556,\"#d8576b\"],[0.6666666666666666,\"#ed7953\"],[0.7777777777777778,\"#fb9f3a\"],[0.8888888888888888,\"#fdca26\"],[1.0,\"#f0f921\"]],\"type\":\"heatmapgl\"}],\"histogram\":[{\"marker\":{\"pattern\":{\"fillmode\":\"overlay\",\"size\":10,\"solidity\":0.2}},\"type\":\"histogram\"}],\"histogram2d\":[{\"colorbar\":{\"outlinewidth\":0,\"ticks\":\"\"},\"colorscale\":[[0.0,\"#0d0887\"],[0.1111111111111111,\"#46039f\"],[0.2222222222222222,\"#7201a8\"],[0.3333333333333333,\"#9c179e\"],[0.4444444444444444,\"#bd3786\"],[0.5555555555555556,\"#d8576b\"],[0.6666666666666666,\"#ed7953\"],[0.7777777777777778,\"#fb9f3a\"],[0.8888888888888888,\"#fdca26\"],[1.0,\"#f0f921\"]],\"type\":\"histogram2d\"}],\"histogram2dcontour\":[{\"colorbar\":{\"outlinewidth\":0,\"ticks\":\"\"},\"colorscale\":[[0.0,\"#0d0887\"],[0.1111111111111111,\"#46039f\"],[0.2222222222222222,\"#7201a8\"],[0.3333333333333333,\"#9c179e\"],[0.4444444444444444,\"#bd3786\"],[0.5555555555555556,\"#d8576b\"],[0.6666666666666666,\"#ed7953\"],[0.7777777777777778,\"#fb9f3a\"],[0.8888888888888888,\"#fdca26\"],[1.0,\"#f0f921\"]],\"type\":\"histogram2dcontour\"}],\"mesh3d\":[{\"colorbar\":{\"outlinewidth\":0,\"ticks\":\"\"},\"type\":\"mesh3d\"}],\"parcoords\":[{\"line\":{\"colorbar\":{\"outlinewidth\":0,\"ticks\":\"\"}},\"type\":\"parcoords\"}],\"pie\":[{\"automargin\":true,\"type\":\"pie\"}],\"scatter\":[{\"marker\":{\"colorbar\":{\"outlinewidth\":0,\"ticks\":\"\"}},\"type\":\"scatter\"}],\"scatter3d\":[{\"line\":{\"colorbar\":{\"outlinewidth\":0,\"ticks\":\"\"}},\"marker\":{\"colorbar\":{\"outlinewidth\":0,\"ticks\":\"\"}},\"type\":\"scatter3d\"}],\"scattercarpet\":[{\"marker\":{\"colorbar\":{\"outlinewidth\":0,\"ticks\":\"\"}},\"type\":\"scattercarpet\"}],\"scattergeo\":[{\"marker\":{\"colorbar\":{\"outlinewidth\":0,\"ticks\":\"\"}},\"type\":\"scattergeo\"}],\"scattergl\":[{\"marker\":{\"colorbar\":{\"outlinewidth\":0,\"ticks\":\"\"}},\"type\":\"scattergl\"}],\"scattermapbox\":[{\"marker\":{\"colorbar\":{\"outlinewidth\":0,\"ticks\":\"\"}},\"type\":\"scattermapbox\"}],\"scatterpolar\":[{\"marker\":{\"colorbar\":{\"outlinewidth\":0,\"ticks\":\"\"}},\"type\":\"scatterpolar\"}],\"scatterpolargl\":[{\"marker\":{\"colorbar\":{\"outlinewidth\":0,\"ticks\":\"\"}},\"type\":\"scatterpolargl\"}],\"scatterternary\":[{\"marker\":{\"colorbar\":{\"outlinewidth\":0,\"ticks\":\"\"}},\"type\":\"scatterternary\"}],\"surface\":[{\"colorbar\":{\"outlinewidth\":0,\"ticks\":\"\"},\"colorscale\":[[0.0,\"#0d0887\"],[0.1111111111111111,\"#46039f\"],[0.2222222222222222,\"#7201a8\"],[0.3333333333333333,\"#9c179e\"],[0.4444444444444444,\"#bd3786\"],[0.5555555555555556,\"#d8576b\"],[0.6666666666666666,\"#ed7953\"],[0.7777777777777778,\"#fb9f3a\"],[0.8888888888888888,\"#fdca26\"],[1.0,\"#f0f921\"]],\"type\":\"surface\"}],\"table\":[{\"cells\":{\"fill\":{\"color\":\"#EBF0F8\"},\"line\":{\"color\":\"white\"}},\"header\":{\"fill\":{\"color\":\"#C8D4E3\"},\"line\":{\"color\":\"white\"}},\"type\":\"table\"}]},\"layout\":{\"annotationdefaults\":{\"arrowcolor\":\"#2a3f5f\",\"arrowhead\":0,\"arrowwidth\":1},\"autotypenumbers\":\"strict\",\"coloraxis\":{\"colorbar\":{\"outlinewidth\":0,\"ticks\":\"\"}},\"colorscale\":{\"diverging\":[[0,\"#8e0152\"],[0.1,\"#c51b7d\"],[0.2,\"#de77ae\"],[0.3,\"#f1b6da\"],[0.4,\"#fde0ef\"],[0.5,\"#f7f7f7\"],[0.6,\"#e6f5d0\"],[0.7,\"#b8e186\"],[0.8,\"#7fbc41\"],[0.9,\"#4d9221\"],[1,\"#276419\"]],\"sequential\":[[0.0,\"#0d0887\"],[0.1111111111111111,\"#46039f\"],[0.2222222222222222,\"#7201a8\"],[0.3333333333333333,\"#9c179e\"],[0.4444444444444444,\"#bd3786\"],[0.5555555555555556,\"#d8576b\"],[0.6666666666666666,\"#ed7953\"],[0.7777777777777778,\"#fb9f3a\"],[0.8888888888888888,\"#fdca26\"],[1.0,\"#f0f921\"]],\"sequentialminus\":[[0.0,\"#0d0887\"],[0.1111111111111111,\"#46039f\"],[0.2222222222222222,\"#7201a8\"],[0.3333333333333333,\"#9c179e\"],[0.4444444444444444,\"#bd3786\"],[0.5555555555555556,\"#d8576b\"],[0.6666666666666666,\"#ed7953\"],[0.7777777777777778,\"#fb9f3a\"],[0.8888888888888888,\"#fdca26\"],[1.0,\"#f0f921\"]]},\"colorway\":[\"#636efa\",\"#EF553B\",\"#00cc96\",\"#ab63fa\",\"#FFA15A\",\"#19d3f3\",\"#FF6692\",\"#B6E880\",\"#FF97FF\",\"#FECB52\"],\"font\":{\"color\":\"#2a3f5f\"},\"geo\":{\"bgcolor\":\"white\",\"lakecolor\":\"white\",\"landcolor\":\"#E5ECF6\",\"showlakes\":true,\"showland\":true,\"subunitcolor\":\"white\"},\"hoverlabel\":{\"align\":\"left\"},\"hovermode\":\"closest\",\"mapbox\":{\"style\":\"light\"},\"paper_bgcolor\":\"white\",\"plot_bgcolor\":\"#E5ECF6\",\"polar\":{\"angularaxis\":{\"gridcolor\":\"white\",\"linecolor\":\"white\",\"ticks\":\"\"},\"bgcolor\":\"#E5ECF6\",\"radialaxis\":{\"gridcolor\":\"white\",\"linecolor\":\"white\",\"ticks\":\"\"}},\"scene\":{\"xaxis\":{\"backgroundcolor\":\"#E5ECF6\",\"gridcolor\":\"white\",\"gridwidth\":2,\"linecolor\":\"white\",\"showbackground\":true,\"ticks\":\"\",\"zerolinecolor\":\"white\"},\"yaxis\":{\"backgroundcolor\":\"#E5ECF6\",\"gridcolor\":\"white\",\"gridwidth\":2,\"linecolor\":\"white\",\"showbackground\":true,\"ticks\":\"\",\"zerolinecolor\":\"white\"},\"zaxis\":{\"backgroundcolor\":\"#E5ECF6\",\"gridcolor\":\"white\",\"gridwidth\":2,\"linecolor\":\"white\",\"showbackground\":true,\"ticks\":\"\",\"zerolinecolor\":\"white\"}},\"shapedefaults\":{\"line\":{\"color\":\"#2a3f5f\"}},\"ternary\":{\"aaxis\":{\"gridcolor\":\"white\",\"linecolor\":\"white\",\"ticks\":\"\"},\"baxis\":{\"gridcolor\":\"white\",\"linecolor\":\"white\",\"ticks\":\"\"},\"bgcolor\":\"#E5ECF6\",\"caxis\":{\"gridcolor\":\"white\",\"linecolor\":\"white\",\"ticks\":\"\"}},\"title\":{\"x\":0.05},\"xaxis\":{\"automargin\":true,\"gridcolor\":\"white\",\"linecolor\":\"white\",\"ticks\":\"\",\"title\":{\"standoff\":15},\"zerolinecolor\":\"white\",\"zerolinewidth\":2},\"yaxis\":{\"automargin\":true,\"gridcolor\":\"white\",\"linecolor\":\"white\",\"ticks\":\"\",\"title\":{\"standoff\":15},\"zerolinecolor\":\"white\",\"zerolinewidth\":2}}},\"xaxis\":{\"anchor\":\"y\",\"domain\":[0.0,1.0],\"scaleanchor\":\"y\",\"constrain\":\"domain\"},\"yaxis\":{\"anchor\":\"x\",\"domain\":[0.0,1.0],\"autorange\":\"reversed\",\"constrain\":\"domain\"},\"coloraxis\":{\"colorscale\":[[0.0,\"#0d0887\"],[0.1111111111111111,\"#46039f\"],[0.2222222222222222,\"#7201a8\"],[0.3333333333333333,\"#9c179e\"],[0.4444444444444444,\"#bd3786\"],[0.5555555555555556,\"#d8576b\"],[0.6666666666666666,\"#ed7953\"],[0.7777777777777778,\"#fb9f3a\"],[0.8888888888888888,\"#fdca26\"],[1.0,\"#f0f921\"]]},\"margin\":{\"t\":60}},                        {\"responsive\": true}                    ).then(function(){\n",
       "                            \n",
       "var gd = document.getElementById('58235ac9-fcb6-41e1-b66e-a9e36b558a17');\n",
       "var x = new MutationObserver(function (mutations, observer) {{\n",
       "        var display = window.getComputedStyle(gd).display;\n",
       "        if (!display || display === 'none') {{\n",
       "            console.log([gd, 'removed!']);\n",
       "            Plotly.purge(gd);\n",
       "            observer.disconnect();\n",
       "        }}\n",
       "}});\n",
       "\n",
       "// Listen for the removal of the full notebook cells\n",
       "var notebookContainer = gd.closest('#notebook-container');\n",
       "if (notebookContainer) {{\n",
       "    x.observe(notebookContainer, {childList: true});\n",
       "}}\n",
       "\n",
       "// Listen for the clearing of the current output cell\n",
       "var outputEl = gd.closest('.output');\n",
       "if (outputEl) {{\n",
       "    x.observe(outputEl, {childList: true});\n",
       "}}\n",
       "\n",
       "                        })                };                });            </script>        </div>"
      ]
     },
     "metadata": {},
     "output_type": "display_data"
    }
   ],
   "source": [
    "pivot = data.corr()\n",
    "pivot = pivot.drop(['sample', 'reviewer_score'], axis=0)\n",
    "pivot = pivot.drop(['sample', 'reviewer_score'], axis=1)\n",
    "for col in pivot:\n",
    "    pivot[col] = pivot[col].apply(lambda x: np.nan if (abs(x) < 0.85 or x == 1) else x)\n",
    "for col in pivot:\n",
    "    pivot = pivot.dropna(how='all')\n",
    "    pivot = pivot.dropna(how='all', axis='columns')\n",
    "\n",
    "fig = px.imshow(pivot)\n",
    "fig.show()"
   ]
  },
  {
   "cell_type": "code",
   "execution_count": 36,
   "id": "163046e9",
   "metadata": {
    "execution": {
     "iopub.execute_input": "2023-08-10T10:24:49.128600Z",
     "iopub.status.busy": "2023-08-10T10:24:49.073916Z",
     "iopub.status.idle": "2023-08-10T10:24:49.141086Z",
     "shell.execute_reply": "2023-08-10T10:24:49.140379Z",
     "shell.execute_reply.started": "2023-08-10T10:20:40.158091Z"
    },
    "papermill": {
     "duration": 0.152157,
     "end_time": "2023-08-10T10:24:49.141260",
     "exception": false,
     "start_time": "2023-08-10T10:24:48.989103",
     "status": "completed"
    },
    "tags": []
   },
   "outputs": [],
   "source": [
    "data = data.drop([' Business trip '], axis=1)"
   ]
  },
  {
   "cell_type": "markdown",
   "id": "66bbd5e5",
   "metadata": {
    "papermill": {
     "duration": 0.078498,
     "end_time": "2023-08-10T10:24:49.300031",
     "exception": false,
     "start_time": "2023-08-10T10:24:49.221533",
     "status": "completed"
    },
    "tags": []
   },
   "source": [
    "**2. Нормализация и стандартизация**\n",
    "*Нормализация и стандартизация не привели к улучшению метрики, поэтому оставим данные как есть*"
   ]
  },
  {
   "cell_type": "code",
   "execution_count": 37,
   "id": "fdd6adb7",
   "metadata": {
    "execution": {
     "iopub.execute_input": "2023-08-10T10:24:49.471439Z",
     "iopub.status.busy": "2023-08-10T10:24:49.470554Z",
     "iopub.status.idle": "2023-08-10T10:24:49.473538Z",
     "shell.execute_reply": "2023-08-10T10:24:49.474107Z",
     "shell.execute_reply.started": "2023-08-10T10:20:40.190690Z"
    },
    "papermill": {
     "duration": 0.094472,
     "end_time": "2023-08-10T10:24:49.474295",
     "exception": false,
     "start_time": "2023-08-10T10:24:49.379823",
     "status": "completed"
    },
    "tags": []
   },
   "outputs": [
    {
     "data": {
      "text/plain": [
       "[]"
      ]
     },
     "execution_count": 37,
     "metadata": {},
     "output_type": "execute_result"
    }
   ],
   "source": [
    "# Посмотрим, остались ли у нас необработанные признаки\n",
    "# модель на признаках с dtypes \"object\" обучаться не будет, просто выберим их и удалим\n",
    "object_columns = [s for s in data.columns if data[s].dtypes == 'object']\n",
    "object_columns"
   ]
  },
  {
   "cell_type": "code",
   "execution_count": 38,
   "id": "ee03b97f",
   "metadata": {
    "execution": {
     "iopub.execute_input": "2023-08-10T10:24:49.641645Z",
     "iopub.status.busy": "2023-08-10T10:24:49.640887Z",
     "iopub.status.idle": "2023-08-10T10:24:49.714381Z",
     "shell.execute_reply": "2023-08-10T10:24:49.713670Z",
     "shell.execute_reply.started": "2023-08-10T10:20:40.201441Z"
    },
    "papermill": {
     "duration": 0.159937,
     "end_time": "2023-08-10T10:24:49.714579",
     "exception": false,
     "start_time": "2023-08-10T10:24:49.554642",
     "status": "completed"
    },
    "tags": []
   },
   "outputs": [],
   "source": [
    "data.drop(object_columns, axis = 1, inplace=True)"
   ]
  },
  {
   "cell_type": "code",
   "execution_count": 39,
   "id": "6e72f341",
   "metadata": {
    "execution": {
     "iopub.execute_input": "2023-08-10T10:24:49.881918Z",
     "iopub.status.busy": "2023-08-10T10:24:49.880824Z",
     "iopub.status.idle": "2023-08-10T10:24:49.936551Z",
     "shell.execute_reply": "2023-08-10T10:24:49.935444Z",
     "shell.execute_reply.started": "2023-08-10T10:20:40.234167Z"
    },
    "papermill": {
     "duration": 0.141572,
     "end_time": "2023-08-10T10:24:49.936736",
     "exception": false,
     "start_time": "2023-08-10T10:24:49.795164",
     "status": "completed"
    },
    "tags": []
   },
   "outputs": [
    {
     "name": "stdout",
     "output_type": "stream",
     "text": [
      "<class 'pandas.core.frame.DataFrame'>\n",
      "RangeIndex: 515738 entries, 0 to 515737\n",
      "Data columns (total 50 columns):\n",
      " #   Column                                           Non-Null Count   Dtype  \n",
      "---  ------                                           --------------   -----  \n",
      " 0   additional_number_of_scoring                     515738 non-null  int64  \n",
      " 1   average_score                                    515738 non-null  float64\n",
      " 2   review_total_negative_word_counts                515738 non-null  int64  \n",
      " 3   total_number_of_reviews                          515738 non-null  int64  \n",
      " 4   review_total_positive_word_counts                515738 non-null  int64  \n",
      " 5   total_number_of_reviews_reviewer_has_given       515738 non-null  int64  \n",
      " 6   days_since_review                                515738 non-null  int64  \n",
      " 7   lat                                              515738 non-null  float64\n",
      " 8   lng                                              515738 non-null  float64\n",
      " 9   sample                                           515738 non-null  int64  \n",
      " 10  reviewer_score                                   515738 non-null  float64\n",
      " 11  city_Amsterdam                                   515738 non-null  uint8  \n",
      " 12  city_Barcelona                                   515738 non-null  uint8  \n",
      " 13  city_London                                      515738 non-null  uint8  \n",
      " 14  city_Milan                                       515738 non-null  uint8  \n",
      " 15  city_Paris                                       515738 non-null  uint8  \n",
      " 16  city_Vienna                                      515738 non-null  uint8  \n",
      " 17  review_month                                     515738 non-null  int64  \n",
      " 18  is_spring                                        515738 non-null  int64  \n",
      " 19  is_summer                                        515738 non-null  int64  \n",
      " 20  is_autumn                                        515738 non-null  int64  \n",
      " 21  hotel_name_code                                  515738 non-null  int16  \n",
      " 22   Leisure trip                                    515738 non-null  int64  \n",
      " 23   Submitted from a mobile device                  515738 non-null  int64  \n",
      " 24   Couple                                          515738 non-null  int64  \n",
      " 25   Stayed 1 night                                  515738 non-null  int64  \n",
      " 26   Stayed 2 nights                                 515738 non-null  int64  \n",
      " 27   Solo traveler                                   515738 non-null  int64  \n",
      " 28   Stayed 3 nights                                 515738 non-null  int64  \n",
      " 29   Group                                           515738 non-null  int64  \n",
      " 30   Family with young children                      515738 non-null  int64  \n",
      " 31   Stayed 4 nights                                 515738 non-null  int64  \n",
      " 32   Double Room                                     515738 non-null  int64  \n",
      " 33   Standard Double Room                            515738 non-null  int64  \n",
      " 34   Superior Double Room                            515738 non-null  int64  \n",
      " 35   Family with older children                      515738 non-null  int64  \n",
      " 36  has_negative                                     515738 non-null  int64  \n",
      " 37  has_positive                                     515738 non-null  int64  \n",
      " 38  reviewer_nationality_ United Kingdom             515738 non-null  int64  \n",
      " 39  reviewer_nationality_ United States of America   515738 non-null  int64  \n",
      " 40  reviewer_nationality_ Australia                  515738 non-null  int64  \n",
      " 41  reviewer_nationality_ Ireland                    515738 non-null  int64  \n",
      " 42  reviewer_nationality_ United Arab Emirates       515738 non-null  int64  \n",
      " 43  reviewer_nationality_ Saudi Arabia               515738 non-null  int64  \n",
      " 44  reviewer_nationality_ Netherlands                515738 non-null  int64  \n",
      " 45  reviewer_nationality_ Switzerland                515738 non-null  int64  \n",
      " 46  reviewer_nationality_ Germany                    515738 non-null  int64  \n",
      " 47  reviewer_nationality_ Canada                     515738 non-null  int64  \n",
      " 48  reviewer_nationality_ France                     515738 non-null  int64  \n",
      " 49  reviewer_nationality_other                       515738 non-null  int64  \n",
      "dtypes: float64(4), int16(1), int64(39), uint8(6)\n",
      "memory usage: 173.1 MB\n"
     ]
    }
   ],
   "source": [
    "data.info()"
   ]
  },
  {
   "cell_type": "markdown",
   "id": "2ffaaede",
   "metadata": {
    "papermill": {
     "duration": 0.080489,
     "end_time": "2023-08-10T10:24:50.097675",
     "exception": false,
     "start_time": "2023-08-10T10:24:50.017186",
     "status": "completed"
    },
    "tags": []
   },
   "source": [
    "## Обучение модели"
   ]
  },
  {
   "cell_type": "code",
   "execution_count": 40,
   "id": "c6b203fc",
   "metadata": {
    "execution": {
     "iopub.execute_input": "2023-08-10T10:24:50.266806Z",
     "iopub.status.busy": "2023-08-10T10:24:50.266017Z",
     "iopub.status.idle": "2023-08-10T10:24:50.509919Z",
     "shell.execute_reply": "2023-08-10T10:24:50.509239Z",
     "shell.execute_reply.started": "2023-08-10T10:20:40.274399Z"
    },
    "papermill": {
     "duration": 0.330468,
     "end_time": "2023-08-10T10:24:50.510089",
     "exception": false,
     "start_time": "2023-08-10T10:24:50.179621",
     "status": "completed"
    },
    "tags": []
   },
   "outputs": [],
   "source": [
    "# Теперь выделим тестовую часть\n",
    "train_data = data.query('sample == 1').drop(['sample'], axis=1)\n",
    "test_data = data.query('sample == 0').drop(['sample'], axis=1)\n",
    "\n",
    "y = train_data.reviewer_score.values            # наш таргет\n",
    "X = train_data.drop(['reviewer_score'], axis=1)"
   ]
  },
  {
   "cell_type": "code",
   "execution_count": 41,
   "id": "656bfb1c",
   "metadata": {
    "execution": {
     "iopub.execute_input": "2023-08-10T10:24:50.680178Z",
     "iopub.status.busy": "2023-08-10T10:24:50.679094Z",
     "iopub.status.idle": "2023-08-10T10:24:50.880159Z",
     "shell.execute_reply": "2023-08-10T10:24:50.880779Z",
     "shell.execute_reply.started": "2023-08-10T10:20:40.441015Z"
    },
    "papermill": {
     "duration": 0.289953,
     "end_time": "2023-08-10T10:24:50.880980",
     "exception": false,
     "start_time": "2023-08-10T10:24:50.591027",
     "status": "completed"
    },
    "tags": []
   },
   "outputs": [],
   "source": [
    "# Воспользуемся специальной функцие train_test_split для разбивки тестовых данных\n",
    "# выделим 20% данных на валидацию (параметр test_size)\n",
    "X_train, X_test, y_train, y_test = train_test_split(X, y, test_size=0.2, random_state=RANDOM_SEED)"
   ]
  },
  {
   "cell_type": "code",
   "execution_count": 42,
   "id": "20b0bc49",
   "metadata": {
    "execution": {
     "iopub.execute_input": "2023-08-10T10:24:51.047191Z",
     "iopub.status.busy": "2023-08-10T10:24:51.046096Z",
     "iopub.status.idle": "2023-08-10T10:24:51.052819Z",
     "shell.execute_reply": "2023-08-10T10:24:51.053532Z",
     "shell.execute_reply.started": "2023-08-10T10:20:40.619930Z"
    },
    "papermill": {
     "duration": 0.091246,
     "end_time": "2023-08-10T10:24:51.053733",
     "exception": false,
     "start_time": "2023-08-10T10:24:50.962487",
     "status": "completed"
    },
    "tags": []
   },
   "outputs": [
    {
     "data": {
      "text/plain": [
       "((128935, 49), (386803, 49), (386803, 48), (309442, 48), (77361, 48))"
      ]
     },
     "execution_count": 42,
     "metadata": {},
     "output_type": "execute_result"
    }
   ],
   "source": [
    "# проверяем\n",
    "test_data.shape, train_data.shape, X.shape, X_train.shape, X_test.shape"
   ]
  },
  {
   "cell_type": "code",
   "execution_count": 43,
   "id": "fc72b59e",
   "metadata": {
    "execution": {
     "iopub.execute_input": "2023-08-10T10:24:51.223181Z",
     "iopub.status.busy": "2023-08-10T10:24:51.222107Z",
     "iopub.status.idle": "2023-08-10T10:24:51.415473Z",
     "shell.execute_reply": "2023-08-10T10:24:51.414828Z",
     "shell.execute_reply.started": "2023-08-10T10:20:40.628544Z"
    },
    "papermill": {
     "duration": 0.278617,
     "end_time": "2023-08-10T10:24:51.415661",
     "exception": false,
     "start_time": "2023-08-10T10:24:51.137044",
     "status": "completed"
    },
    "tags": []
   },
   "outputs": [],
   "source": [
    "# Импортируем необходимые библиотеки:\n",
    "from sklearn.ensemble import RandomForestRegressor # инструмент для создания и обучения модели\n",
    "from sklearn import metrics # инструменты для оценки точности модели"
   ]
  },
  {
   "cell_type": "code",
   "execution_count": 44,
   "id": "b93f88da",
   "metadata": {
    "execution": {
     "iopub.execute_input": "2023-08-10T10:24:51.584681Z",
     "iopub.status.busy": "2023-08-10T10:24:51.583702Z",
     "iopub.status.idle": "2023-08-10T10:24:51.587051Z",
     "shell.execute_reply": "2023-08-10T10:24:51.586380Z",
     "shell.execute_reply.started": "2023-08-10T10:20:40.644390Z"
    },
    "papermill": {
     "duration": 0.090253,
     "end_time": "2023-08-10T10:24:51.587223",
     "exception": false,
     "start_time": "2023-08-10T10:24:51.496970",
     "status": "completed"
    },
    "tags": []
   },
   "outputs": [],
   "source": [
    "# Создаём модель (НАСТРОЙКИ НЕ ТРОГАЕМ)\n",
    "model = RandomForestRegressor(n_estimators=100, verbose=1, n_jobs=-1, random_state=RANDOM_SEED)"
   ]
  },
  {
   "cell_type": "code",
   "execution_count": 45,
   "id": "e773416c",
   "metadata": {
    "execution": {
     "iopub.execute_input": "2023-08-10T10:24:51.760728Z",
     "iopub.status.busy": "2023-08-10T10:24:51.759897Z",
     "iopub.status.idle": "2023-08-10T10:28:04.821429Z",
     "shell.execute_reply": "2023-08-10T10:28:04.820629Z",
     "shell.execute_reply.started": "2023-08-10T10:20:40.663980Z"
    },
    "papermill": {
     "duration": 193.152402,
     "end_time": "2023-08-10T10:28:04.821667",
     "exception": false,
     "start_time": "2023-08-10T10:24:51.669265",
     "status": "completed"
    },
    "tags": []
   },
   "outputs": [
    {
     "name": "stderr",
     "output_type": "stream",
     "text": [
      "[Parallel(n_jobs=-1)]: Using backend ThreadingBackend with 4 concurrent workers.\n",
      "[Parallel(n_jobs=-1)]: Done  42 tasks      | elapsed:  1.4min\n",
      "[Parallel(n_jobs=-1)]: Done 100 out of 100 | elapsed:  3.2min finished\n",
      "[Parallel(n_jobs=4)]: Using backend ThreadingBackend with 4 concurrent workers.\n",
      "[Parallel(n_jobs=4)]: Done  42 tasks      | elapsed:    0.9s\n",
      "[Parallel(n_jobs=4)]: Done 100 out of 100 | elapsed:    1.8s finished\n"
     ]
    }
   ],
   "source": [
    "# Обучаем модель на тестовом наборе данных\n",
    "model.fit(X_train, y_train)\n",
    "\n",
    "# Используем обученную модель для предсказания рейтинга ресторанов в тестовой выборке.\n",
    "# Предсказанные значения записываем в переменную y_pred\n",
    "y_pred = model.predict(X_test)"
   ]
  },
  {
   "cell_type": "code",
   "execution_count": 46,
   "id": "a1e1f8dc",
   "metadata": {
    "execution": {
     "iopub.execute_input": "2023-08-10T10:28:04.997150Z",
     "iopub.status.busy": "2023-08-10T10:28:04.996169Z",
     "iopub.status.idle": "2023-08-10T10:28:05.002221Z",
     "shell.execute_reply": "2023-08-10T10:28:05.002947Z",
     "shell.execute_reply.started": "2023-08-10T10:23:09.682591Z"
    },
    "papermill": {
     "duration": 0.098171,
     "end_time": "2023-08-10T10:28:05.003153",
     "exception": false,
     "start_time": "2023-08-10T10:28:04.904982",
     "status": "completed"
    },
    "tags": []
   },
   "outputs": [
    {
     "name": "stdout",
     "output_type": "stream",
     "text": [
      "MAPE: 0.9268132906577138\n",
      "MAPE: 13.347732900662217\n"
     ]
    }
   ],
   "source": [
    "# Сравниваем предсказанные значения (y_pred) с реальными (y_test), и смотрим насколько они в среднем отличаются\n",
    "# Метрика называется Mean Absolute Error (MAE) и показывает среднее отклонение предсказанных значений от фактических.\n",
    "print('MAPE:', metrics.mean_absolute_error(y_test, y_pred))\n",
    "def MAPE(y_true, y_pred): \n",
    "    y_true, y_pred = np.array(y_true), np.array(y_pred)\n",
    "    return np.mean(np.abs((y_true - y_pred) / np.maximum(np.ones(len(y_true)), np.abs(y_true))))*100\n",
    "\n",
    "print('MAPE:', MAPE(y_test, y_pred))"
   ]
  },
  {
   "cell_type": "code",
   "execution_count": 47,
   "id": "dafa3589",
   "metadata": {
    "execution": {
     "iopub.execute_input": "2023-08-10T10:28:05.177969Z",
     "iopub.status.busy": "2023-08-10T10:28:05.177155Z",
     "iopub.status.idle": "2023-08-10T10:28:05.786554Z",
     "shell.execute_reply": "2023-08-10T10:28:05.787151Z",
     "shell.execute_reply.started": "2023-08-10T10:23:09.694656Z"
    },
    "papermill": {
     "duration": 0.700208,
     "end_time": "2023-08-10T10:28:05.787344",
     "exception": false,
     "start_time": "2023-08-10T10:28:05.087136",
     "status": "completed"
    },
    "tags": []
   },
   "outputs": [
    {
     "data": {
      "text/plain": [
       "<AxesSubplot:>"
      ]
     },
     "execution_count": 47,
     "metadata": {},
     "output_type": "execute_result"
    },
    {
     "data": {
      "image/png": "[encoded data removed]",
      "text/plain": [
       "<Figure size 720x720 with 1 Axes>"
      ]
     },
     "metadata": {
      "needs_background": "light"
     },
     "output_type": "display_data"
    }
   ],
   "source": [
    "# в RandomForestRegressor есть возможность вывести самые важные признаки для модели\n",
    "plt.rcParams['figure.figsize'] = (10,10)\n",
    "feat_importances = pd.Series(model.feature_importances_, index=X.columns)\n",
    "feat_importances.nlargest(15).plot(kind='barh')"
   ]
  },
  {
   "cell_type": "code",
   "execution_count": 48,
   "id": "75ee2065",
   "metadata": {
    "execution": {
     "iopub.execute_input": "2023-08-10T10:28:05.963784Z",
     "iopub.status.busy": "2023-08-10T10:28:05.963021Z",
     "iopub.status.idle": "2023-08-10T10:28:05.995121Z",
     "shell.execute_reply": "2023-08-10T10:28:05.994539Z",
     "shell.execute_reply.started": "2023-08-10T10:23:10.064677Z"
    },
    "papermill": {
     "duration": 0.121182,
     "end_time": "2023-08-10T10:28:05.995289",
     "exception": false,
     "start_time": "2023-08-10T10:28:05.874107",
     "status": "completed"
    },
    "tags": []
   },
   "outputs": [
    {
     "data": {
      "text/html": [
       "<div>\n",
       "<style scoped>\n",
       "    .dataframe tbody tr th:only-of-type {\n",
       "        vertical-align: middle;\n",
       "    }\n",
       "\n",
       "    .dataframe tbody tr th {\n",
       "        vertical-align: top;\n",
       "    }\n",
       "\n",
       "    .dataframe thead th {\n",
       "        text-align: right;\n",
       "    }\n",
       "</style>\n",
       "<table border=\"1\" class=\"dataframe\">\n",
       "  <thead>\n",
       "    <tr style=\"text-align: right;\">\n",
       "      <th></th>\n",
       "      <th>additional_number_of_scoring</th>\n",
       "      <th>average_score</th>\n",
       "      <th>review_total_negative_word_counts</th>\n",
       "      <th>total_number_of_reviews</th>\n",
       "      <th>review_total_positive_word_counts</th>\n",
       "      <th>total_number_of_reviews_reviewer_has_given</th>\n",
       "      <th>days_since_review</th>\n",
       "      <th>lat</th>\n",
       "      <th>lng</th>\n",
       "      <th>reviewer_score</th>\n",
       "      <th>...</th>\n",
       "      <th>reviewer_nationality_ Australia</th>\n",
       "      <th>reviewer_nationality_ Ireland</th>\n",
       "      <th>reviewer_nationality_ United Arab Emirates</th>\n",
       "      <th>reviewer_nationality_ Saudi Arabia</th>\n",
       "      <th>reviewer_nationality_ Netherlands</th>\n",
       "      <th>reviewer_nationality_ Switzerland</th>\n",
       "      <th>reviewer_nationality_ Germany</th>\n",
       "      <th>reviewer_nationality_ Canada</th>\n",
       "      <th>reviewer_nationality_ France</th>\n",
       "      <th>reviewer_nationality_other</th>\n",
       "    </tr>\n",
       "  </thead>\n",
       "  <tbody>\n",
       "    <tr>\n",
       "      <th>79197</th>\n",
       "      <td>161</td>\n",
       "      <td>8.2</td>\n",
       "      <td>17</td>\n",
       "      <td>684</td>\n",
       "      <td>21</td>\n",
       "      <td>2</td>\n",
       "      <td>1</td>\n",
       "      <td>51.496301</td>\n",
       "      <td>-0.179685</td>\n",
       "      <td>0.0</td>\n",
       "      <td>...</td>\n",
       "      <td>0</td>\n",
       "      <td>0</td>\n",
       "      <td>0</td>\n",
       "      <td>0</td>\n",
       "      <td>0</td>\n",
       "      <td>0</td>\n",
       "      <td>0</td>\n",
       "      <td>0</td>\n",
       "      <td>0</td>\n",
       "      <td>1</td>\n",
       "    </tr>\n",
       "    <tr>\n",
       "      <th>107447</th>\n",
       "      <td>2288</td>\n",
       "      <td>8.1</td>\n",
       "      <td>0</td>\n",
       "      <td>9568</td>\n",
       "      <td>2</td>\n",
       "      <td>1</td>\n",
       "      <td>681</td>\n",
       "      <td>51.511099</td>\n",
       "      <td>-0.120867</td>\n",
       "      <td>0.0</td>\n",
       "      <td>...</td>\n",
       "      <td>0</td>\n",
       "      <td>0</td>\n",
       "      <td>0</td>\n",
       "      <td>0</td>\n",
       "      <td>0</td>\n",
       "      <td>0</td>\n",
       "      <td>0</td>\n",
       "      <td>0</td>\n",
       "      <td>0</td>\n",
       "      <td>0</td>\n",
       "    </tr>\n",
       "    <tr>\n",
       "      <th>9110</th>\n",
       "      <td>198</td>\n",
       "      <td>8.2</td>\n",
       "      <td>8</td>\n",
       "      <td>1046</td>\n",
       "      <td>23</td>\n",
       "      <td>2</td>\n",
       "      <td>102</td>\n",
       "      <td>51.494265</td>\n",
       "      <td>-0.136603</td>\n",
       "      <td>0.0</td>\n",
       "      <td>...</td>\n",
       "      <td>0</td>\n",
       "      <td>0</td>\n",
       "      <td>0</td>\n",
       "      <td>0</td>\n",
       "      <td>0</td>\n",
       "      <td>0</td>\n",
       "      <td>0</td>\n",
       "      <td>0</td>\n",
       "      <td>0</td>\n",
       "      <td>0</td>\n",
       "    </tr>\n",
       "    <tr>\n",
       "      <th>83829</th>\n",
       "      <td>61</td>\n",
       "      <td>7.4</td>\n",
       "      <td>68</td>\n",
       "      <td>334</td>\n",
       "      <td>3</td>\n",
       "      <td>5</td>\n",
       "      <td>641</td>\n",
       "      <td>51.518277</td>\n",
       "      <td>-0.158351</td>\n",
       "      <td>0.0</td>\n",
       "      <td>...</td>\n",
       "      <td>0</td>\n",
       "      <td>0</td>\n",
       "      <td>0</td>\n",
       "      <td>0</td>\n",
       "      <td>0</td>\n",
       "      <td>0</td>\n",
       "      <td>0</td>\n",
       "      <td>0</td>\n",
       "      <td>0</td>\n",
       "      <td>0</td>\n",
       "    </tr>\n",
       "    <tr>\n",
       "      <th>46980</th>\n",
       "      <td>419</td>\n",
       "      <td>8.4</td>\n",
       "      <td>78</td>\n",
       "      <td>4527</td>\n",
       "      <td>10</td>\n",
       "      <td>2</td>\n",
       "      <td>29</td>\n",
       "      <td>41.375029</td>\n",
       "      <td>2.149117</td>\n",
       "      <td>0.0</td>\n",
       "      <td>...</td>\n",
       "      <td>0</td>\n",
       "      <td>0</td>\n",
       "      <td>0</td>\n",
       "      <td>0</td>\n",
       "      <td>0</td>\n",
       "      <td>0</td>\n",
       "      <td>0</td>\n",
       "      <td>0</td>\n",
       "      <td>0</td>\n",
       "      <td>0</td>\n",
       "    </tr>\n",
       "    <tr>\n",
       "      <th>41652</th>\n",
       "      <td>803</td>\n",
       "      <td>8.4</td>\n",
       "      <td>13</td>\n",
       "      <td>3911</td>\n",
       "      <td>0</td>\n",
       "      <td>5</td>\n",
       "      <td>142</td>\n",
       "      <td>52.376752</td>\n",
       "      <td>4.904618</td>\n",
       "      <td>0.0</td>\n",
       "      <td>...</td>\n",
       "      <td>1</td>\n",
       "      <td>0</td>\n",
       "      <td>0</td>\n",
       "      <td>0</td>\n",
       "      <td>0</td>\n",
       "      <td>0</td>\n",
       "      <td>0</td>\n",
       "      <td>0</td>\n",
       "      <td>0</td>\n",
       "      <td>0</td>\n",
       "    </tr>\n",
       "    <tr>\n",
       "      <th>37064</th>\n",
       "      <td>1258</td>\n",
       "      <td>9.4</td>\n",
       "      <td>36</td>\n",
       "      <td>4204</td>\n",
       "      <td>23</td>\n",
       "      <td>3</td>\n",
       "      <td>424</td>\n",
       "      <td>51.502435</td>\n",
       "      <td>-0.000250</td>\n",
       "      <td>0.0</td>\n",
       "      <td>...</td>\n",
       "      <td>0</td>\n",
       "      <td>0</td>\n",
       "      <td>0</td>\n",
       "      <td>0</td>\n",
       "      <td>0</td>\n",
       "      <td>0</td>\n",
       "      <td>0</td>\n",
       "      <td>0</td>\n",
       "      <td>0</td>\n",
       "      <td>0</td>\n",
       "    </tr>\n",
       "    <tr>\n",
       "      <th>12888</th>\n",
       "      <td>612</td>\n",
       "      <td>8.6</td>\n",
       "      <td>2</td>\n",
       "      <td>5018</td>\n",
       "      <td>4</td>\n",
       "      <td>4</td>\n",
       "      <td>244</td>\n",
       "      <td>52.385649</td>\n",
       "      <td>4.834443</td>\n",
       "      <td>0.0</td>\n",
       "      <td>...</td>\n",
       "      <td>0</td>\n",
       "      <td>0</td>\n",
       "      <td>0</td>\n",
       "      <td>0</td>\n",
       "      <td>0</td>\n",
       "      <td>0</td>\n",
       "      <td>0</td>\n",
       "      <td>0</td>\n",
       "      <td>0</td>\n",
       "      <td>1</td>\n",
       "    </tr>\n",
       "    <tr>\n",
       "      <th>85253</th>\n",
       "      <td>1936</td>\n",
       "      <td>8.7</td>\n",
       "      <td>17</td>\n",
       "      <td>7491</td>\n",
       "      <td>8</td>\n",
       "      <td>1</td>\n",
       "      <td>109</td>\n",
       "      <td>51.510841</td>\n",
       "      <td>-0.078058</td>\n",
       "      <td>0.0</td>\n",
       "      <td>...</td>\n",
       "      <td>0</td>\n",
       "      <td>0</td>\n",
       "      <td>0</td>\n",
       "      <td>0</td>\n",
       "      <td>0</td>\n",
       "      <td>0</td>\n",
       "      <td>0</td>\n",
       "      <td>0</td>\n",
       "      <td>0</td>\n",
       "      <td>0</td>\n",
       "    </tr>\n",
       "    <tr>\n",
       "      <th>76622</th>\n",
       "      <td>101</td>\n",
       "      <td>8.1</td>\n",
       "      <td>6</td>\n",
       "      <td>1991</td>\n",
       "      <td>3</td>\n",
       "      <td>9</td>\n",
       "      <td>681</td>\n",
       "      <td>41.433756</td>\n",
       "      <td>2.147327</td>\n",
       "      <td>0.0</td>\n",
       "      <td>...</td>\n",
       "      <td>0</td>\n",
       "      <td>0</td>\n",
       "      <td>0</td>\n",
       "      <td>0</td>\n",
       "      <td>0</td>\n",
       "      <td>0</td>\n",
       "      <td>0</td>\n",
       "      <td>0</td>\n",
       "      <td>0</td>\n",
       "      <td>1</td>\n",
       "    </tr>\n",
       "  </tbody>\n",
       "</table>\n",
       "<p>10 rows × 49 columns</p>\n",
       "</div>"
      ],
      "text/plain": [
       "        additional_number_of_scoring  average_score  \\\n",
       "79197                            161            8.2   \n",
       "107447                          2288            8.1   \n",
       "9110                             198            8.2   \n",
       "83829                             61            7.4   \n",
       "46980                            419            8.4   \n",
       "41652                            803            8.4   \n",
       "37064                           1258            9.4   \n",
       "12888                            612            8.6   \n",
       "85253                           1936            8.7   \n",
       "76622                            101            8.1   \n",
       "\n",
       "        review_total_negative_word_counts  total_number_of_reviews  \\\n",
       "79197                                  17                      684   \n",
       "107447                                  0                     9568   \n",
       "9110                                    8                     1046   \n",
       "83829                                  68                      334   \n",
       "46980                                  78                     4527   \n",
       "41652                                  13                     3911   \n",
       "37064                                  36                     4204   \n",
       "12888                                   2                     5018   \n",
       "85253                                  17                     7491   \n",
       "76622                                   6                     1991   \n",
       "\n",
       "        review_total_positive_word_counts  \\\n",
       "79197                                  21   \n",
       "107447                                  2   \n",
       "9110                                   23   \n",
       "83829                                   3   \n",
       "46980                                  10   \n",
       "41652                                   0   \n",
       "37064                                  23   \n",
       "12888                                   4   \n",
       "85253                                   8   \n",
       "76622                                   3   \n",
       "\n",
       "        total_number_of_reviews_reviewer_has_given  days_since_review  \\\n",
       "79197                                            2                  1   \n",
       "107447                                           1                681   \n",
       "9110                                             2                102   \n",
       "83829                                            5                641   \n",
       "46980                                            2                 29   \n",
       "41652                                            5                142   \n",
       "37064                                            3                424   \n",
       "12888                                            4                244   \n",
       "85253                                            1                109   \n",
       "76622                                            9                681   \n",
       "\n",
       "              lat       lng  reviewer_score  ...  \\\n",
       "79197   51.496301 -0.179685             0.0  ...   \n",
       "107447  51.511099 -0.120867             0.0  ...   \n",
       "9110    51.494265 -0.136603             0.0  ...   \n",
       "83829   51.518277 -0.158351             0.0  ...   \n",
       "46980   41.375029  2.149117             0.0  ...   \n",
       "41652   52.376752  4.904618             0.0  ...   \n",
       "37064   51.502435 -0.000250             0.0  ...   \n",
       "12888   52.385649  4.834443             0.0  ...   \n",
       "85253   51.510841 -0.078058             0.0  ...   \n",
       "76622   41.433756  2.147327             0.0  ...   \n",
       "\n",
       "        reviewer_nationality_ Australia   reviewer_nationality_ Ireland   \\\n",
       "79197                                  0                               0   \n",
       "107447                                 0                               0   \n",
       "9110                                   0                               0   \n",
       "83829                                  0                               0   \n",
       "46980                                  0                               0   \n",
       "41652                                  1                               0   \n",
       "37064                                  0                               0   \n",
       "12888                                  0                               0   \n",
       "85253                                  0                               0   \n",
       "76622                                  0                               0   \n",
       "\n",
       "        reviewer_nationality_ United Arab Emirates   \\\n",
       "79197                                             0   \n",
       "107447                                            0   \n",
       "9110                                              0   \n",
       "83829                                             0   \n",
       "46980                                             0   \n",
       "41652                                             0   \n",
       "37064                                             0   \n",
       "12888                                             0   \n",
       "85253                                             0   \n",
       "76622                                             0   \n",
       "\n",
       "        reviewer_nationality_ Saudi Arabia   \\\n",
       "79197                                     0   \n",
       "107447                                    0   \n",
       "9110                                      0   \n",
       "83829                                     0   \n",
       "46980                                     0   \n",
       "41652                                     0   \n",
       "37064                                     0   \n",
       "12888                                     0   \n",
       "85253                                     0   \n",
       "76622                                     0   \n",
       "\n",
       "        reviewer_nationality_ Netherlands   \\\n",
       "79197                                    0   \n",
       "107447                                   0   \n",
       "9110                                     0   \n",
       "83829                                    0   \n",
       "46980                                    0   \n",
       "41652                                    0   \n",
       "37064                                    0   \n",
       "12888                                    0   \n",
       "85253                                    0   \n",
       "76622                                    0   \n",
       "\n",
       "        reviewer_nationality_ Switzerland   reviewer_nationality_ Germany   \\\n",
       "79197                                    0                               0   \n",
       "107447                                   0                               0   \n",
       "9110                                     0                               0   \n",
       "83829                                    0                               0   \n",
       "46980                                    0                               0   \n",
       "41652                                    0                               0   \n",
       "37064                                    0                               0   \n",
       "12888                                    0                               0   \n",
       "85253                                    0                               0   \n",
       "76622                                    0                               0   \n",
       "\n",
       "        reviewer_nationality_ Canada   reviewer_nationality_ France   \\\n",
       "79197                               0                              0   \n",
       "107447                              0                              0   \n",
       "9110                                0                              0   \n",
       "83829                               0                              0   \n",
       "46980                               0                              0   \n",
       "41652                               0                              0   \n",
       "37064                               0                              0   \n",
       "12888                               0                              0   \n",
       "85253                               0                              0   \n",
       "76622                               0                              0   \n",
       "\n",
       "        reviewer_nationality_other  \n",
       "79197                            1  \n",
       "107447                           0  \n",
       "9110                             0  \n",
       "83829                            0  \n",
       "46980                            0  \n",
       "41652                            0  \n",
       "37064                            0  \n",
       "12888                            1  \n",
       "85253                            0  \n",
       "76622                            1  \n",
       "\n",
       "[10 rows x 49 columns]"
      ]
     },
     "execution_count": 48,
     "metadata": {},
     "output_type": "execute_result"
    }
   ],
   "source": [
    "test_data.sample(10)"
   ]
  },
  {
   "cell_type": "code",
   "execution_count": 49,
   "id": "4e12cefd",
   "metadata": {
    "execution": {
     "iopub.execute_input": "2023-08-10T10:28:06.186490Z",
     "iopub.status.busy": "2023-08-10T10:28:06.185467Z",
     "iopub.status.idle": "2023-08-10T10:28:06.190020Z",
     "shell.execute_reply": "2023-08-10T10:28:06.189438Z",
     "shell.execute_reply.started": "2023-08-10T10:23:10.094489Z"
    },
    "papermill": {
     "duration": 0.108873,
     "end_time": "2023-08-10T10:28:06.190178",
     "exception": false,
     "start_time": "2023-08-10T10:28:06.081305",
     "status": "completed"
    },
    "tags": []
   },
   "outputs": [],
   "source": [
    "test_data = test_data.drop(['reviewer_score'], axis=1)"
   ]
  },
  {
   "cell_type": "code",
   "execution_count": 50,
   "id": "29b7e295",
   "metadata": {
    "execution": {
     "iopub.execute_input": "2023-08-10T10:28:06.375413Z",
     "iopub.status.busy": "2023-08-10T10:28:06.374548Z",
     "iopub.status.idle": "2023-08-10T10:28:06.377875Z",
     "shell.execute_reply": "2023-08-10T10:28:06.378426Z",
     "shell.execute_reply.started": "2023-08-10T10:23:10.108561Z"
    },
    "papermill": {
     "duration": 0.101667,
     "end_time": "2023-08-10T10:28:06.378627",
     "exception": false,
     "start_time": "2023-08-10T10:28:06.276960",
     "status": "completed"
    },
    "tags": []
   },
   "outputs": [
    {
     "data": {
      "text/html": [
       "<div>\n",
       "<style scoped>\n",
       "    .dataframe tbody tr th:only-of-type {\n",
       "        vertical-align: middle;\n",
       "    }\n",
       "\n",
       "    .dataframe tbody tr th {\n",
       "        vertical-align: top;\n",
       "    }\n",
       "\n",
       "    .dataframe thead th {\n",
       "        text-align: right;\n",
       "    }\n",
       "</style>\n",
       "<table border=\"1\" class=\"dataframe\">\n",
       "  <thead>\n",
       "    <tr style=\"text-align: right;\">\n",
       "      <th></th>\n",
       "      <th>reviewer_score</th>\n",
       "      <th>id</th>\n",
       "    </tr>\n",
       "  </thead>\n",
       "  <tbody>\n",
       "    <tr>\n",
       "      <th>0</th>\n",
       "      <td>1</td>\n",
       "      <td>488440</td>\n",
       "    </tr>\n",
       "    <tr>\n",
       "      <th>1</th>\n",
       "      <td>10</td>\n",
       "      <td>274649</td>\n",
       "    </tr>\n",
       "    <tr>\n",
       "      <th>2</th>\n",
       "      <td>3</td>\n",
       "      <td>374688</td>\n",
       "    </tr>\n",
       "    <tr>\n",
       "      <th>3</th>\n",
       "      <td>10</td>\n",
       "      <td>404352</td>\n",
       "    </tr>\n",
       "    <tr>\n",
       "      <th>4</th>\n",
       "      <td>9</td>\n",
       "      <td>451596</td>\n",
       "    </tr>\n",
       "    <tr>\n",
       "      <th>...</th>\n",
       "      <td>...</td>\n",
       "      <td>...</td>\n",
       "    </tr>\n",
       "    <tr>\n",
       "      <th>128930</th>\n",
       "      <td>7</td>\n",
       "      <td>495812</td>\n",
       "    </tr>\n",
       "    <tr>\n",
       "      <th>128931</th>\n",
       "      <td>1</td>\n",
       "      <td>315577</td>\n",
       "    </tr>\n",
       "    <tr>\n",
       "      <th>128932</th>\n",
       "      <td>3</td>\n",
       "      <td>511968</td>\n",
       "    </tr>\n",
       "    <tr>\n",
       "      <th>128933</th>\n",
       "      <td>6</td>\n",
       "      <td>303386</td>\n",
       "    </tr>\n",
       "    <tr>\n",
       "      <th>128934</th>\n",
       "      <td>5</td>\n",
       "      <td>103157</td>\n",
       "    </tr>\n",
       "  </tbody>\n",
       "</table>\n",
       "<p>128935 rows × 2 columns</p>\n",
       "</div>"
      ],
      "text/plain": [
       "        reviewer_score      id\n",
       "0                    1  488440\n",
       "1                   10  274649\n",
       "2                    3  374688\n",
       "3                   10  404352\n",
       "4                    9  451596\n",
       "...                ...     ...\n",
       "128930               7  495812\n",
       "128931               1  315577\n",
       "128932               3  511968\n",
       "128933               6  303386\n",
       "128934               5  103157\n",
       "\n",
       "[128935 rows x 2 columns]"
      ]
     },
     "execution_count": 50,
     "metadata": {},
     "output_type": "execute_result"
    }
   ],
   "source": [
    "sample_submission"
   ]
  },
  {
   "cell_type": "code",
   "execution_count": 51,
   "id": "86234eb6",
   "metadata": {
    "execution": {
     "iopub.execute_input": "2023-08-10T10:28:06.561110Z",
     "iopub.status.busy": "2023-08-10T10:28:06.560331Z",
     "iopub.status.idle": "2023-08-10T10:28:09.308251Z",
     "shell.execute_reply": "2023-08-10T10:28:09.307608Z",
     "shell.execute_reply.started": "2023-08-10T10:23:10.127414Z"
    },
    "papermill": {
     "duration": 2.843076,
     "end_time": "2023-08-10T10:28:09.308424",
     "exception": false,
     "start_time": "2023-08-10T10:28:06.465348",
     "status": "completed"
    },
    "tags": []
   },
   "outputs": [
    {
     "name": "stderr",
     "output_type": "stream",
     "text": [
      "[Parallel(n_jobs=4)]: Using backend ThreadingBackend with 4 concurrent workers.\n",
      "[Parallel(n_jobs=4)]: Done  42 tasks      | elapsed:    1.2s\n",
      "[Parallel(n_jobs=4)]: Done 100 out of 100 | elapsed:    2.7s finished\n"
     ]
    }
   ],
   "source": [
    "predict_submission = model.predict(test_data)"
   ]
  },
  {
   "cell_type": "code",
   "execution_count": 52,
   "id": "5aee3143",
   "metadata": {
    "execution": {
     "iopub.execute_input": "2023-08-10T10:28:09.490155Z",
     "iopub.status.busy": "2023-08-10T10:28:09.489397Z",
     "iopub.status.idle": "2023-08-10T10:28:09.495332Z",
     "shell.execute_reply": "2023-08-10T10:28:09.496052Z",
     "shell.execute_reply.started": "2023-08-10T10:23:12.772461Z"
    },
    "papermill": {
     "duration": 0.098236,
     "end_time": "2023-08-10T10:28:09.496245",
     "exception": false,
     "start_time": "2023-08-10T10:28:09.398009",
     "status": "completed"
    },
    "tags": []
   },
   "outputs": [
    {
     "data": {
      "text/plain": [
       "array([8.782, 6.892, 8.272, ..., 7.983, 9.535, 7.465])"
      ]
     },
     "execution_count": 52,
     "metadata": {},
     "output_type": "execute_result"
    }
   ],
   "source": [
    "predict_submission"
   ]
  },
  {
   "cell_type": "code",
   "execution_count": 53,
   "id": "1c66d0e9",
   "metadata": {
    "execution": {
     "iopub.execute_input": "2023-08-10T10:28:09.681055Z",
     "iopub.status.busy": "2023-08-10T10:28:09.680289Z",
     "iopub.status.idle": "2023-08-10T10:28:09.684377Z",
     "shell.execute_reply": "2023-08-10T10:28:09.683666Z",
     "shell.execute_reply.started": "2023-08-10T10:23:12.782599Z"
    },
    "papermill": {
     "duration": 0.099342,
     "end_time": "2023-08-10T10:28:09.684549",
     "exception": false,
     "start_time": "2023-08-10T10:28:09.585207",
     "status": "completed"
    },
    "tags": []
   },
   "outputs": [
    {
     "data": {
      "text/plain": [
       "['reviewer_score', 'id']"
      ]
     },
     "execution_count": 53,
     "metadata": {},
     "output_type": "execute_result"
    }
   ],
   "source": [
    "list(sample_submission)"
   ]
  },
  {
   "cell_type": "code",
   "execution_count": 54,
   "id": "271f1b78",
   "metadata": {
    "execution": {
     "iopub.execute_input": "2023-08-10T10:28:09.868363Z",
     "iopub.status.busy": "2023-08-10T10:28:09.867421Z",
     "iopub.status.idle": "2023-08-10T10:28:10.334247Z",
     "shell.execute_reply": "2023-08-10T10:28:10.335114Z",
     "shell.execute_reply.started": "2023-08-10T10:23:12.802096Z"
    },
    "papermill": {
     "duration": 0.561838,
     "end_time": "2023-08-10T10:28:10.335361",
     "exception": false,
     "start_time": "2023-08-10T10:28:09.773523",
     "status": "completed"
    },
    "tags": []
   },
   "outputs": [
    {
     "data": {
      "text/html": [
       "<div>\n",
       "<style scoped>\n",
       "    .dataframe tbody tr th:only-of-type {\n",
       "        vertical-align: middle;\n",
       "    }\n",
       "\n",
       "    .dataframe tbody tr th {\n",
       "        vertical-align: top;\n",
       "    }\n",
       "\n",
       "    .dataframe thead th {\n",
       "        text-align: right;\n",
       "    }\n",
       "</style>\n",
       "<table border=\"1\" class=\"dataframe\">\n",
       "  <thead>\n",
       "    <tr style=\"text-align: right;\">\n",
       "      <th></th>\n",
       "      <th>reviewer_score</th>\n",
       "      <th>id</th>\n",
       "    </tr>\n",
       "  </thead>\n",
       "  <tbody>\n",
       "    <tr>\n",
       "      <th>0</th>\n",
       "      <td>8.782</td>\n",
       "      <td>488440</td>\n",
       "    </tr>\n",
       "    <tr>\n",
       "      <th>1</th>\n",
       "      <td>6.892</td>\n",
       "      <td>274649</td>\n",
       "    </tr>\n",
       "    <tr>\n",
       "      <th>2</th>\n",
       "      <td>8.272</td>\n",
       "      <td>374688</td>\n",
       "    </tr>\n",
       "    <tr>\n",
       "      <th>3</th>\n",
       "      <td>9.605</td>\n",
       "      <td>404352</td>\n",
       "    </tr>\n",
       "    <tr>\n",
       "      <th>4</th>\n",
       "      <td>9.451</td>\n",
       "      <td>451596</td>\n",
       "    </tr>\n",
       "    <tr>\n",
       "      <th>5</th>\n",
       "      <td>8.630</td>\n",
       "      <td>302161</td>\n",
       "    </tr>\n",
       "    <tr>\n",
       "      <th>6</th>\n",
       "      <td>7.912</td>\n",
       "      <td>317079</td>\n",
       "    </tr>\n",
       "    <tr>\n",
       "      <th>7</th>\n",
       "      <td>7.210</td>\n",
       "      <td>13963</td>\n",
       "    </tr>\n",
       "    <tr>\n",
       "      <th>8</th>\n",
       "      <td>8.599</td>\n",
       "      <td>159785</td>\n",
       "    </tr>\n",
       "    <tr>\n",
       "      <th>9</th>\n",
       "      <td>7.856</td>\n",
       "      <td>195089</td>\n",
       "    </tr>\n",
       "  </tbody>\n",
       "</table>\n",
       "</div>"
      ],
      "text/plain": [
       "   reviewer_score      id\n",
       "0           8.782  488440\n",
       "1           6.892  274649\n",
       "2           8.272  374688\n",
       "3           9.605  404352\n",
       "4           9.451  451596\n",
       "5           8.630  302161\n",
       "6           7.912  317079\n",
       "7           7.210   13963\n",
       "8           8.599  159785\n",
       "9           7.856  195089"
      ]
     },
     "execution_count": 54,
     "metadata": {},
     "output_type": "execute_result"
    }
   ],
   "source": [
    "sample_submission['reviewer_score'] = predict_submission\n",
    "sample_submission.to_csv('submission.csv', index=False)\n",
    "sample_submission.head(10)"
   ]
  }
 ],
 "metadata": {
  "kernelspec": {
   "display_name": "Python 3",
   "language": "python",
   "name": "python3"
  },
  "language_info": {
   "codemirror_mode": {
    "name": "ipython",
    "version": 3
   },
   "file_extension": ".py",
   "mimetype": "text/x-python",
   "name": "python",
   "nbconvert_exporter": "python",
   "pygments_lexer": "ipython3",
   "version": "3.7.12"
  },
  "papermill": {
   "default_parameters": {},
   "duration": 275.589593,
   "end_time": "2023-08-10T10:28:11.648015",
   "environment_variables": {},
   "exception": null,
   "input_path": "__notebook__.ipynb",
   "output_path": "__notebook__.ipynb",
   "parameters": {},
   "start_time": "2023-08-10T10:23:36.058422",
   "version": "2.3.3"
  }
 },
 "nbformat": 4,
 "nbformat_minor": 5
}
